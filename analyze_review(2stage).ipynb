{
  "nbformat": 4,
  "nbformat_minor": 0,
  "metadata": {
    "colab": {
      "provenance": []
    },
    "kernelspec": {
      "name": "python3",
      "display_name": "Python 3"
    },
    "language_info": {
      "name": "python"
    }
  },
  "cells": [
    {
      "cell_type": "code",
      "source": [
        "import matplotlib.pyplot as plt\n",
        "import numpy as np\n",
        "import seaborn as sns\n"
      ],
      "metadata": {
        "id": "mX0eyrJcRAxe"
      },
      "execution_count": 1,
      "outputs": []
    },
    {
      "cell_type": "markdown",
      "source": [
        "Устанавливаем нужны либы для обработки текста"
      ],
      "metadata": {
        "id": "4KEq-hN6Apq1"
      }
    },
    {
      "cell_type": "code",
      "execution_count": 2,
      "metadata": {
        "id": "xG9eFxs9-kGh",
        "colab": {
          "base_uri": "https://localhost:8080/"
        },
        "outputId": "285c7330-62b9-462e-edea-74643f2baa5f"
      },
      "outputs": [
        {
          "output_type": "stream",
          "name": "stdout",
          "text": [
            "\u001b[31mERROR: Could not find a version that satisfies the requirement re (from versions: none)\u001b[0m\u001b[31m\n",
            "\u001b[0m\u001b[31mERROR: No matching distribution found for re\u001b[0m\u001b[31m\n",
            "\u001b[0mRequirement already satisfied: nltk in /usr/local/lib/python3.10/dist-packages (3.8.1)\n",
            "Requirement already satisfied: click in /usr/local/lib/python3.10/dist-packages (from nltk) (8.1.7)\n",
            "Requirement already satisfied: joblib in /usr/local/lib/python3.10/dist-packages (from nltk) (1.3.2)\n",
            "Requirement already satisfied: regex>=2021.8.3 in /usr/local/lib/python3.10/dist-packages (from nltk) (2023.12.25)\n",
            "Requirement already satisfied: tqdm in /usr/local/lib/python3.10/dist-packages (from nltk) (4.66.2)\n",
            "\u001b[31mERROR: Could not find a version that satisfies the requirement unicodedata (from versions: none)\u001b[0m\u001b[31m\n",
            "\u001b[0m\u001b[31mERROR: No matching distribution found for unicodedata\u001b[0m\u001b[31m\n",
            "\u001b[0mCollecting contractions\n",
            "  Downloading contractions-0.1.73-py2.py3-none-any.whl (8.7 kB)\n",
            "Collecting textsearch>=0.0.21 (from contractions)\n",
            "  Downloading textsearch-0.0.24-py2.py3-none-any.whl (7.6 kB)\n",
            "Collecting anyascii (from textsearch>=0.0.21->contractions)\n",
            "  Downloading anyascii-0.3.2-py3-none-any.whl (289 kB)\n",
            "\u001b[2K     \u001b[90m━━━━━━━━━━━━━━━━━━━━━━━━━━━━━━━━━━━━━━━━\u001b[0m \u001b[32m289.9/289.9 kB\u001b[0m \u001b[31m5.3 MB/s\u001b[0m eta \u001b[36m0:00:00\u001b[0m\n",
            "\u001b[?25hCollecting pyahocorasick (from textsearch>=0.0.21->contractions)\n",
            "  Downloading pyahocorasick-2.1.0-cp310-cp310-manylinux_2_5_x86_64.manylinux1_x86_64.manylinux_2_12_x86_64.manylinux2010_x86_64.whl (110 kB)\n",
            "\u001b[2K     \u001b[90m━━━━━━━━━━━━━━━━━━━━━━━━━━━━━━━━━━━━━━━━\u001b[0m \u001b[32m110.7/110.7 kB\u001b[0m \u001b[31m12.7 MB/s\u001b[0m eta \u001b[36m0:00:00\u001b[0m\n",
            "\u001b[?25hInstalling collected packages: pyahocorasick, anyascii, textsearch, contractions\n",
            "Successfully installed anyascii-0.3.2 contractions-0.1.73 pyahocorasick-2.1.0 textsearch-0.0.24\n",
            "Requirement already satisfied: inflect in /usr/local/lib/python3.10/dist-packages (7.0.0)\n",
            "Requirement already satisfied: pydantic>=1.9.1 in /usr/local/lib/python3.10/dist-packages (from inflect) (2.6.4)\n",
            "Requirement already satisfied: typing-extensions in /usr/local/lib/python3.10/dist-packages (from inflect) (4.10.0)\n",
            "Requirement already satisfied: annotated-types>=0.4.0 in /usr/local/lib/python3.10/dist-packages (from pydantic>=1.9.1->inflect) (0.6.0)\n",
            "Requirement already satisfied: pydantic-core==2.16.3 in /usr/local/lib/python3.10/dist-packages (from pydantic>=1.9.1->inflect) (2.16.3)\n",
            "Collecting emoji\n",
            "  Downloading emoji-2.11.0-py2.py3-none-any.whl (433 kB)\n",
            "\u001b[2K     \u001b[90m━━━━━━━━━━━━━━━━━━━━━━━━━━━━━━━━━━━━━━━━\u001b[0m \u001b[32m433.8/433.8 kB\u001b[0m \u001b[31m8.4 MB/s\u001b[0m eta \u001b[36m0:00:00\u001b[0m\n",
            "\u001b[?25hInstalling collected packages: emoji\n",
            "Successfully installed emoji-2.11.0\n",
            "Collecting pymorphy2\n",
            "  Downloading pymorphy2-0.9.1-py3-none-any.whl (55 kB)\n",
            "\u001b[2K     \u001b[90m━━━━━━━━━━━━━━━━━━━━━━━━━━━━━━━━━━━━━━━━\u001b[0m \u001b[32m55.5/55.5 kB\u001b[0m \u001b[31m2.2 MB/s\u001b[0m eta \u001b[36m0:00:00\u001b[0m\n",
            "\u001b[?25hCollecting dawg-python>=0.7.1 (from pymorphy2)\n",
            "  Downloading DAWG_Python-0.7.2-py2.py3-none-any.whl (11 kB)\n",
            "Collecting pymorphy2-dicts-ru<3.0,>=2.4 (from pymorphy2)\n",
            "  Downloading pymorphy2_dicts_ru-2.4.417127.4579844-py2.py3-none-any.whl (8.2 MB)\n",
            "\u001b[2K     \u001b[90m━━━━━━━━━━━━━━━━━━━━━━━━━━━━━━━━━━━━━━━━\u001b[0m \u001b[32m8.2/8.2 MB\u001b[0m \u001b[31m68.8 MB/s\u001b[0m eta \u001b[36m0:00:00\u001b[0m\n",
            "\u001b[?25hCollecting docopt>=0.6 (from pymorphy2)\n",
            "  Downloading docopt-0.6.2.tar.gz (25 kB)\n",
            "  Preparing metadata (setup.py) ... \u001b[?25l\u001b[?25hdone\n",
            "Building wheels for collected packages: docopt\n",
            "  Building wheel for docopt (setup.py) ... \u001b[?25l\u001b[?25hdone\n",
            "  Created wheel for docopt: filename=docopt-0.6.2-py2.py3-none-any.whl size=13706 sha256=8eb4d55a52e7145a43597e0c04768c7a20d427afe8c8221c31884e9e98acaed1\n",
            "  Stored in directory: /root/.cache/pip/wheels/fc/ab/d4/5da2067ac95b36618c629a5f93f809425700506f72c9732fac\n",
            "Successfully built docopt\n",
            "Installing collected packages: pymorphy2-dicts-ru, docopt, dawg-python, pymorphy2\n",
            "Successfully installed dawg-python-0.7.2 docopt-0.6.2 pymorphy2-0.9.1 pymorphy2-dicts-ru-2.4.417127.4579844\n"
          ]
        }
      ],
      "source": [
        "%pip install re\n",
        "%pip install nltk\n",
        "%pip install unicodedata\n",
        "%pip install contractions\n",
        "%pip install inflect\n",
        "%pip install emoji\n",
        "%pip install pymorphy2"
      ]
    },
    {
      "cell_type": "markdown",
      "source": [
        "Импортируем и загружаем словари для удалений"
      ],
      "metadata": {
        "id": "BniDSIeFA4QQ"
      }
    },
    {
      "cell_type": "code",
      "source": [
        "import re\n",
        "import nltk\n",
        "import emoji\n",
        "import unicodedata\n",
        "import contractions\n",
        "import inflect\n",
        "import pymorphy2\n",
        "from nltk.corpus import stopwords\n",
        "from nltk.tokenize import word_tokenize\n",
        "\n",
        "nltk.download('stopwords')\n",
        "nltk.download('punkt')"
      ],
      "metadata": {
        "colab": {
          "base_uri": "https://localhost:8080/"
        },
        "id": "ogaV7X_MAzRj",
        "outputId": "d1b8d774-f163-47de-e781-1af670bdf575"
      },
      "execution_count": 3,
      "outputs": [
        {
          "output_type": "stream",
          "name": "stderr",
          "text": [
            "[nltk_data] Downloading package stopwords to /root/nltk_data...\n",
            "[nltk_data]   Unzipping corpora/stopwords.zip.\n",
            "[nltk_data] Downloading package punkt to /root/nltk_data...\n",
            "[nltk_data]   Unzipping tokenizers/punkt.zip.\n"
          ]
        },
        {
          "output_type": "execute_result",
          "data": {
            "text/plain": [
              "True"
            ]
          },
          "metadata": {},
          "execution_count": 3
        }
      ]
    },
    {
      "cell_type": "markdown",
      "source": [
        "Часто в отзывах пользователи оставляют эмоджи, которые указывают эмоцииальную окраску, поэтому чтобы не терять такую информацию, преобразуем эмоции в текст"
      ],
      "metadata": {
        "id": "qC2r0Y0bA9X0"
      }
    },
    {
      "cell_type": "code",
      "source": [
        "def emojis_words(text):\n",
        "\n",
        "    # Модуль emoji: преобразование эмоджи в их словесные описания\n",
        "    processed_text = emoji.demojize(text, delimiters=(\" \", \" \"), language='ru')\n",
        "\n",
        "    return processed_text"
      ],
      "metadata": {
        "id": "sJvc625YA87r"
      },
      "execution_count": 4,
      "outputs": []
    },
    {
      "cell_type": "code",
      "source": [
        "text = 'Безумно понравилось общение 😊 Я рада что в Тинькофф банке'\n",
        "print(emojis_words(text))"
      ],
      "metadata": {
        "colab": {
          "base_uri": "https://localhost:8080/"
        },
        "id": "8FsSNS3ADPYm",
        "outputId": "55c0e9d0-566e-4baa-a81f-56e39b4efad6"
      },
      "execution_count": 5,
      "outputs": [
        {
          "output_type": "stream",
          "name": "stdout",
          "text": [
            "Безумно понравилось общение  довольно_улыбается  Я рада что в Тинькофф банке\n"
          ]
        }
      ]
    },
    {
      "cell_type": "markdown",
      "source": [
        "Избавимся от лишних символов, которые появляются при деэмоджировании)"
      ],
      "metadata": {
        "id": "IGUvDM9IDjq5"
      }
    },
    {
      "cell_type": "code",
      "source": [
        "def emojis_words(text):\n",
        "\n",
        "    # Модуль emoji: преобразование эмоджи в их словесные описания\n",
        "    processed_text = emoji.demojize(text, delimiters=(\" \", \" \"), language='ru')\n",
        "\n",
        "    # заменяет символы : и _ на пробел\n",
        "    processed_text = processed_text.replace(\":\", \"\").replace(\"_\", \" \")\n",
        "\n",
        "    return processed_text"
      ],
      "metadata": {
        "id": "7p_qGFNhDsUM"
      },
      "execution_count": 6,
      "outputs": []
    },
    {
      "cell_type": "code",
      "source": [
        "text = 'Безумно понравилось общение 😊 Я рада что в Тинькофф банке'\n",
        "print(emojis_words(text))"
      ],
      "metadata": {
        "colab": {
          "base_uri": "https://localhost:8080/"
        },
        "id": "WWJN0_GVD6oG",
        "outputId": "2a850663-4473-48f9-c02c-ff2402a1c5cc"
      },
      "execution_count": 7,
      "outputs": [
        {
          "output_type": "stream",
          "name": "stdout",
          "text": [
            "Безумно понравилось общение  довольно улыбается  Я рада что в Тинькофф банке\n"
          ]
        }
      ]
    },
    {
      "cell_type": "markdown",
      "source": [
        "Далее напишем функцию для избавления от \"всякого мусора\" в отзывах при помощи регулярных выражений"
      ],
      "metadata": {
        "id": "SJCUd4QVBl4Y"
      }
    },
    {
      "cell_type": "code",
      "source": [
        "def clean_review(review):\n",
        "  # Приводим все к нижнему регистру\n",
        "  cleaned_review = review.lower()\n",
        "\n",
        "  # удаление HTML тегов\n",
        "  cleaned_review = re.sub('<[^<]+?>', '', cleaned_review)\n",
        "\n",
        "  # удаление цифр\n",
        "  cleaned_review = ''.join([x for x in cleaned_review if not x.isdigit()])\n",
        "\n",
        "  # удаление ссылок\n",
        "  cleaned_review = re.sub(r'http\\S+', '', cleaned_review)\n",
        "\n",
        "  # Удаление стоп-слов - это стандартная практика очистки текстов\n",
        "  stop_words = set(stopwords.words('russian'))\n",
        "  tokens = word_tokenize(cleaned_review)\n",
        "  tokens = [token for token in tokens if token not in stop_words]\n",
        "  cleaned_review = ' '.join(tokens)\n",
        "\n",
        "  # Удаляем из текста все знаки препинания\n",
        "  cleaned_review = re.sub(r'[^\\w\\s]', '', cleaned_review)\n",
        "\n",
        "  return cleaned_review\n"
      ],
      "metadata": {
        "id": "POSqYVk8Bszq"
      },
      "execution_count": 8,
      "outputs": []
    },
    {
      "cell_type": "code",
      "source": [
        "review = 'Очень оперативно и с результатом решили мои вопросы в чат поддержке: недавно у меня сняли деньги за непонятную подписку, банк решил вопрос за пару дней, деньги вернули. Также есть возможности и услуги, которые выручают в трудную минуту: кубышка, кредитная карта. Проценты небольгие, условия лучше, чем у контор с микрозаймами. В приложении всё просто, легко ориентироваться, есть возможность заказать доставку продуктов, записаться в салон красоты🙂. Спасибо'"
      ],
      "metadata": {
        "id": "EDX5pDwyGk93"
      },
      "execution_count": 9,
      "outputs": []
    },
    {
      "cell_type": "code",
      "source": [
        "clean_review(review)"
      ],
      "metadata": {
        "colab": {
          "base_uri": "https://localhost:8080/",
          "height": 88
        },
        "id": "urze9gfMGteh",
        "outputId": "492ed701-d894-41e2-b6f9-c8059c65a211"
      },
      "execution_count": 10,
      "outputs": [
        {
          "output_type": "execute_result",
          "data": {
            "text/plain": [
              "'очень оперативно результатом решили мои вопросы чат поддержке  недавно сняли деньги непонятную подписку  банк решил вопрос пару дней  деньги вернули  также возможности услуги  которые выручают трудную минуту  кубышка  кредитная карта  проценты небольгие  условия  контор микрозаймами  приложении всё просто  легко ориентироваться  возможность заказать доставку продуктов  записаться салон красоты  спасибо'"
            ],
            "application/vnd.google.colaboratory.intrinsic+json": {
              "type": "string"
            }
          },
          "metadata": {},
          "execution_count": 10
        }
      ]
    },
    {
      "cell_type": "markdown",
      "source": [
        "Очищаем отзыв и лемматизируем"
      ],
      "metadata": {
        "id": "onywQ4TRgAlG"
      }
    },
    {
      "cell_type": "code",
      "source": [
        "morph = pymorphy2.MorphAnalyzer()\n",
        "\n",
        "def data_preprocessing(review):\n",
        "  review = emojis_words(review)\n",
        "  review = clean_review(review)\n",
        "\n",
        "  # tokenization\n",
        "  tokens = word_tokenize(review)\n",
        "\n",
        "  # stop words removal\n",
        "  review = [morph.parse(word)[0].normal_form for word in tokens]\n",
        "\n",
        "  review = ' '.join(review)\n",
        "\n",
        "  return review\n",
        "\n",
        "\n",
        "print(data_preprocessing(review))"
      ],
      "metadata": {
        "colab": {
          "base_uri": "https://localhost:8080/"
        },
        "id": "Eg2ErvKYfTS0",
        "outputId": "53be37f2-51b5-491e-f68d-c194344fe54d"
      },
      "execution_count": 11,
      "outputs": [
        {
          "output_type": "stream",
          "name": "stdout",
          "text": [
            "очень оперативно результат решить мой вопрос чат поддержка недавно снять деньга непонятный подписка банк решить вопрос пара день деньга вернуть также возможность услуга который выручать трудный минута кубышка кредитный карта процент небольгий условие контора микрозаём приложение всё просто легко ориентироваться возможность заказать доставка продукт записаться салон красота слегка улыбаться спасибо\n"
          ]
        }
      ]
    },
    {
      "cell_type": "markdown",
      "source": [
        "Применим предобработку к нашему датасету"
      ],
      "metadata": {
        "id": "jCBorh7ShLgj"
      }
    },
    {
      "cell_type": "code",
      "source": [
        "import pandas as pd\n",
        "\n",
        "df = pd.read_csv('reviews.csv')\n",
        "df.head()"
      ],
      "metadata": {
        "colab": {
          "base_uri": "https://localhost:8080/",
          "height": 310
        },
        "id": "GWNsFmFxJve1",
        "outputId": "cd346858-f7f5-490e-d268-2a60e4a302dd"
      },
      "execution_count": 13,
      "outputs": [
        {
          "output_type": "execute_result",
          "data": {
            "text/plain": [
              "   Unnamed: 0                                             header  \\\n",
              "0           0                                          Поддержка   \n",
              "1           1                              Персональный Менеджер   \n",
              "2           2                                  Самый лучший банк   \n",
              "3           3  Обращение по отправке годовой декларации в нал...   \n",
              "4           4  Спасибо большое сотрудникам Тинькофф поддержки...   \n",
              "\n",
              "       created_date  rating                                            message  \n",
              "0  01.03.2024 22:39       5  Хочу выразить огромную благодарность сотрудник...  \n",
              "1  26.02.2024 14:48       5                                       Добрый день.  \n",
              "2  09.03.2024 10:39       5  Очень редко пишу отзывы, но сейчас то самое вр...  \n",
              "3  05.03.2024 18:15       5  Общалась с Ф-вой Натальей несколько дней. Снач...  \n",
              "4  26.02.2024 16:01       5  26,02 обратились в Тиньков по спорному моменту...  "
            ],
            "text/html": [
              "\n",
              "  <div id=\"df-b4f73195-faf6-4c82-a6b0-84b3f1accb47\" class=\"colab-df-container\">\n",
              "    <div>\n",
              "<style scoped>\n",
              "    .dataframe tbody tr th:only-of-type {\n",
              "        vertical-align: middle;\n",
              "    }\n",
              "\n",
              "    .dataframe tbody tr th {\n",
              "        vertical-align: top;\n",
              "    }\n",
              "\n",
              "    .dataframe thead th {\n",
              "        text-align: right;\n",
              "    }\n",
              "</style>\n",
              "<table border=\"1\" class=\"dataframe\">\n",
              "  <thead>\n",
              "    <tr style=\"text-align: right;\">\n",
              "      <th></th>\n",
              "      <th>Unnamed: 0</th>\n",
              "      <th>header</th>\n",
              "      <th>created_date</th>\n",
              "      <th>rating</th>\n",
              "      <th>message</th>\n",
              "    </tr>\n",
              "  </thead>\n",
              "  <tbody>\n",
              "    <tr>\n",
              "      <th>0</th>\n",
              "      <td>0</td>\n",
              "      <td>Поддержка</td>\n",
              "      <td>01.03.2024 22:39</td>\n",
              "      <td>5</td>\n",
              "      <td>Хочу выразить огромную благодарность сотрудник...</td>\n",
              "    </tr>\n",
              "    <tr>\n",
              "      <th>1</th>\n",
              "      <td>1</td>\n",
              "      <td>Персональный Менеджер</td>\n",
              "      <td>26.02.2024 14:48</td>\n",
              "      <td>5</td>\n",
              "      <td>Добрый день.</td>\n",
              "    </tr>\n",
              "    <tr>\n",
              "      <th>2</th>\n",
              "      <td>2</td>\n",
              "      <td>Самый лучший банк</td>\n",
              "      <td>09.03.2024 10:39</td>\n",
              "      <td>5</td>\n",
              "      <td>Очень редко пишу отзывы, но сейчас то самое вр...</td>\n",
              "    </tr>\n",
              "    <tr>\n",
              "      <th>3</th>\n",
              "      <td>3</td>\n",
              "      <td>Обращение по отправке годовой декларации в нал...</td>\n",
              "      <td>05.03.2024 18:15</td>\n",
              "      <td>5</td>\n",
              "      <td>Общалась с Ф-вой Натальей несколько дней. Снач...</td>\n",
              "    </tr>\n",
              "    <tr>\n",
              "      <th>4</th>\n",
              "      <td>4</td>\n",
              "      <td>Спасибо большое сотрудникам Тинькофф поддержки...</td>\n",
              "      <td>26.02.2024 16:01</td>\n",
              "      <td>5</td>\n",
              "      <td>26,02 обратились в Тиньков по спорному моменту...</td>\n",
              "    </tr>\n",
              "  </tbody>\n",
              "</table>\n",
              "</div>\n",
              "    <div class=\"colab-df-buttons\">\n",
              "\n",
              "  <div class=\"colab-df-container\">\n",
              "    <button class=\"colab-df-convert\" onclick=\"convertToInteractive('df-b4f73195-faf6-4c82-a6b0-84b3f1accb47')\"\n",
              "            title=\"Convert this dataframe to an interactive table.\"\n",
              "            style=\"display:none;\">\n",
              "\n",
              "  <svg xmlns=\"http://www.w3.org/2000/svg\" height=\"24px\" viewBox=\"0 -960 960 960\">\n",
              "    <path d=\"M120-120v-720h720v720H120Zm60-500h600v-160H180v160Zm220 220h160v-160H400v160Zm0 220h160v-160H400v160ZM180-400h160v-160H180v160Zm440 0h160v-160H620v160ZM180-180h160v-160H180v160Zm440 0h160v-160H620v160Z\"/>\n",
              "  </svg>\n",
              "    </button>\n",
              "\n",
              "  <style>\n",
              "    .colab-df-container {\n",
              "      display:flex;\n",
              "      gap: 12px;\n",
              "    }\n",
              "\n",
              "    .colab-df-convert {\n",
              "      background-color: #E8F0FE;\n",
              "      border: none;\n",
              "      border-radius: 50%;\n",
              "      cursor: pointer;\n",
              "      display: none;\n",
              "      fill: #1967D2;\n",
              "      height: 32px;\n",
              "      padding: 0 0 0 0;\n",
              "      width: 32px;\n",
              "    }\n",
              "\n",
              "    .colab-df-convert:hover {\n",
              "      background-color: #E2EBFA;\n",
              "      box-shadow: 0px 1px 2px rgba(60, 64, 67, 0.3), 0px 1px 3px 1px rgba(60, 64, 67, 0.15);\n",
              "      fill: #174EA6;\n",
              "    }\n",
              "\n",
              "    .colab-df-buttons div {\n",
              "      margin-bottom: 4px;\n",
              "    }\n",
              "\n",
              "    [theme=dark] .colab-df-convert {\n",
              "      background-color: #3B4455;\n",
              "      fill: #D2E3FC;\n",
              "    }\n",
              "\n",
              "    [theme=dark] .colab-df-convert:hover {\n",
              "      background-color: #434B5C;\n",
              "      box-shadow: 0px 1px 3px 1px rgba(0, 0, 0, 0.15);\n",
              "      filter: drop-shadow(0px 1px 2px rgba(0, 0, 0, 0.3));\n",
              "      fill: #FFFFFF;\n",
              "    }\n",
              "  </style>\n",
              "\n",
              "    <script>\n",
              "      const buttonEl =\n",
              "        document.querySelector('#df-b4f73195-faf6-4c82-a6b0-84b3f1accb47 button.colab-df-convert');\n",
              "      buttonEl.style.display =\n",
              "        google.colab.kernel.accessAllowed ? 'block' : 'none';\n",
              "\n",
              "      async function convertToInteractive(key) {\n",
              "        const element = document.querySelector('#df-b4f73195-faf6-4c82-a6b0-84b3f1accb47');\n",
              "        const dataTable =\n",
              "          await google.colab.kernel.invokeFunction('convertToInteractive',\n",
              "                                                    [key], {});\n",
              "        if (!dataTable) return;\n",
              "\n",
              "        const docLinkHtml = 'Like what you see? Visit the ' +\n",
              "          '<a target=\"_blank\" href=https://colab.research.google.com/notebooks/data_table.ipynb>data table notebook</a>'\n",
              "          + ' to learn more about interactive tables.';\n",
              "        element.innerHTML = '';\n",
              "        dataTable['output_type'] = 'display_data';\n",
              "        await google.colab.output.renderOutput(dataTable, element);\n",
              "        const docLink = document.createElement('div');\n",
              "        docLink.innerHTML = docLinkHtml;\n",
              "        element.appendChild(docLink);\n",
              "      }\n",
              "    </script>\n",
              "  </div>\n",
              "\n",
              "\n",
              "<div id=\"df-7f799e3b-2295-4736-a15e-d41734ba7627\">\n",
              "  <button class=\"colab-df-quickchart\" onclick=\"quickchart('df-7f799e3b-2295-4736-a15e-d41734ba7627')\"\n",
              "            title=\"Suggest charts\"\n",
              "            style=\"display:none;\">\n",
              "\n",
              "<svg xmlns=\"http://www.w3.org/2000/svg\" height=\"24px\"viewBox=\"0 0 24 24\"\n",
              "     width=\"24px\">\n",
              "    <g>\n",
              "        <path d=\"M19 3H5c-1.1 0-2 .9-2 2v14c0 1.1.9 2 2 2h14c1.1 0 2-.9 2-2V5c0-1.1-.9-2-2-2zM9 17H7v-7h2v7zm4 0h-2V7h2v10zm4 0h-2v-4h2v4z\"/>\n",
              "    </g>\n",
              "</svg>\n",
              "  </button>\n",
              "\n",
              "<style>\n",
              "  .colab-df-quickchart {\n",
              "      --bg-color: #E8F0FE;\n",
              "      --fill-color: #1967D2;\n",
              "      --hover-bg-color: #E2EBFA;\n",
              "      --hover-fill-color: #174EA6;\n",
              "      --disabled-fill-color: #AAA;\n",
              "      --disabled-bg-color: #DDD;\n",
              "  }\n",
              "\n",
              "  [theme=dark] .colab-df-quickchart {\n",
              "      --bg-color: #3B4455;\n",
              "      --fill-color: #D2E3FC;\n",
              "      --hover-bg-color: #434B5C;\n",
              "      --hover-fill-color: #FFFFFF;\n",
              "      --disabled-bg-color: #3B4455;\n",
              "      --disabled-fill-color: #666;\n",
              "  }\n",
              "\n",
              "  .colab-df-quickchart {\n",
              "    background-color: var(--bg-color);\n",
              "    border: none;\n",
              "    border-radius: 50%;\n",
              "    cursor: pointer;\n",
              "    display: none;\n",
              "    fill: var(--fill-color);\n",
              "    height: 32px;\n",
              "    padding: 0;\n",
              "    width: 32px;\n",
              "  }\n",
              "\n",
              "  .colab-df-quickchart:hover {\n",
              "    background-color: var(--hover-bg-color);\n",
              "    box-shadow: 0 1px 2px rgba(60, 64, 67, 0.3), 0 1px 3px 1px rgba(60, 64, 67, 0.15);\n",
              "    fill: var(--button-hover-fill-color);\n",
              "  }\n",
              "\n",
              "  .colab-df-quickchart-complete:disabled,\n",
              "  .colab-df-quickchart-complete:disabled:hover {\n",
              "    background-color: var(--disabled-bg-color);\n",
              "    fill: var(--disabled-fill-color);\n",
              "    box-shadow: none;\n",
              "  }\n",
              "\n",
              "  .colab-df-spinner {\n",
              "    border: 2px solid var(--fill-color);\n",
              "    border-color: transparent;\n",
              "    border-bottom-color: var(--fill-color);\n",
              "    animation:\n",
              "      spin 1s steps(1) infinite;\n",
              "  }\n",
              "\n",
              "  @keyframes spin {\n",
              "    0% {\n",
              "      border-color: transparent;\n",
              "      border-bottom-color: var(--fill-color);\n",
              "      border-left-color: var(--fill-color);\n",
              "    }\n",
              "    20% {\n",
              "      border-color: transparent;\n",
              "      border-left-color: var(--fill-color);\n",
              "      border-top-color: var(--fill-color);\n",
              "    }\n",
              "    30% {\n",
              "      border-color: transparent;\n",
              "      border-left-color: var(--fill-color);\n",
              "      border-top-color: var(--fill-color);\n",
              "      border-right-color: var(--fill-color);\n",
              "    }\n",
              "    40% {\n",
              "      border-color: transparent;\n",
              "      border-right-color: var(--fill-color);\n",
              "      border-top-color: var(--fill-color);\n",
              "    }\n",
              "    60% {\n",
              "      border-color: transparent;\n",
              "      border-right-color: var(--fill-color);\n",
              "    }\n",
              "    80% {\n",
              "      border-color: transparent;\n",
              "      border-right-color: var(--fill-color);\n",
              "      border-bottom-color: var(--fill-color);\n",
              "    }\n",
              "    90% {\n",
              "      border-color: transparent;\n",
              "      border-bottom-color: var(--fill-color);\n",
              "    }\n",
              "  }\n",
              "</style>\n",
              "\n",
              "  <script>\n",
              "    async function quickchart(key) {\n",
              "      const quickchartButtonEl =\n",
              "        document.querySelector('#' + key + ' button');\n",
              "      quickchartButtonEl.disabled = true;  // To prevent multiple clicks.\n",
              "      quickchartButtonEl.classList.add('colab-df-spinner');\n",
              "      try {\n",
              "        const charts = await google.colab.kernel.invokeFunction(\n",
              "            'suggestCharts', [key], {});\n",
              "      } catch (error) {\n",
              "        console.error('Error during call to suggestCharts:', error);\n",
              "      }\n",
              "      quickchartButtonEl.classList.remove('colab-df-spinner');\n",
              "      quickchartButtonEl.classList.add('colab-df-quickchart-complete');\n",
              "    }\n",
              "    (() => {\n",
              "      let quickchartButtonEl =\n",
              "        document.querySelector('#df-7f799e3b-2295-4736-a15e-d41734ba7627 button');\n",
              "      quickchartButtonEl.style.display =\n",
              "        google.colab.kernel.accessAllowed ? 'block' : 'none';\n",
              "    })();\n",
              "  </script>\n",
              "</div>\n",
              "    </div>\n",
              "  </div>\n"
            ],
            "application/vnd.google.colaboratory.intrinsic+json": {
              "type": "dataframe",
              "variable_name": "df",
              "summary": "{\n  \"name\": \"df\",\n  \"rows\": 4117,\n  \"fields\": [\n    {\n      \"column\": \"Unnamed: 0\",\n      \"properties\": {\n        \"dtype\": \"number\",\n        \"std\": 1188,\n        \"min\": 0,\n        \"max\": 4116,\n        \"num_unique_values\": 4117,\n        \"samples\": [\n          2648,\n          843,\n          2222\n        ],\n        \"semantic_type\": \"\",\n        \"description\": \"\"\n      }\n    },\n    {\n      \"column\": \"header\",\n      \"properties\": {\n        \"dtype\": \"string\",\n        \"num_unique_values\": 3212,\n        \"samples\": [\n          \"\\u041e\\u0447\\u0435\\u0440\\u0435\\u0434\\u043d\\u043e\\u0439 \\u043f\\u0440\\u0438\\u044f\\u0442\\u043d\\u044b\\u0439 \\u0441\\u044e\\u0440\\u043f\\u0440\\u0438\\u0437\",\n          \"\\u041f\\u043e\\u0434\\u043e\\u0431\\u0440\\u0430\\u043b\\u0438 \\u0438\\u0434\\u0435\\u0430\\u043b\\u044c\\u043d\\u044b\\u0435 \\u0443\\u0441\\u043b\\u043e\\u0432\\u0438\\u044f\",\n          \"\\u041f\\u0440\\u0438\\u044f\\u0442\\u043d\\u044b\\u0435 \\u0440\\u0430\\u0431\\u043e\\u0442\\u043d\\u0438\\u043a\\u0438 \\u0432 \\u0422\\u0438\\u043d\\u044c\\u043a\\u043e\\u0444\\u0444\"\n        ],\n        \"semantic_type\": \"\",\n        \"description\": \"\"\n      }\n    },\n    {\n      \"column\": \"created_date\",\n      \"properties\": {\n        \"dtype\": \"object\",\n        \"num_unique_values\": 3906,\n        \"samples\": [\n          \"15.02.2024 17:05\",\n          \"21.03.2024 21:35\",\n          \"02.03.2024 22:01\"\n        ],\n        \"semantic_type\": \"\",\n        \"description\": \"\"\n      }\n    },\n    {\n      \"column\": \"rating\",\n      \"properties\": {\n        \"dtype\": \"number\",\n        \"std\": 1,\n        \"min\": 1,\n        \"max\": 5,\n        \"num_unique_values\": 5,\n        \"samples\": [\n          1,\n          3,\n          2\n        ],\n        \"semantic_type\": \"\",\n        \"description\": \"\"\n      }\n    },\n    {\n      \"column\": \"message\",\n      \"properties\": {\n        \"dtype\": \"string\",\n        \"num_unique_values\": 4035,\n        \"samples\": [\n          \"29.02.2024 \\u043f\\u0440\\u0438\\u0448\\u043b\\u0430 \\u043d\\u0430 \\u0434\\u0435\\u0431\\u0435\\u0442\\u043e\\u0432\\u0443\\u044e \\u043a\\u0430\\u0440\\u0442\\u0443 \\u0437\\u0430\\u0440\\u0430\\u0431\\u043e\\u0442\\u043d\\u0430\\u044f \\u043f\\u043b\\u0430\\u0442\\u0430, \\u0442\\u0430\\u043a \\u043a\\u0430\\u043a \\u043d\\u0430 \\u043a\\u0430\\u0440\\u0442\\u0435 \\u0431\\u044b\\u043b\\u043e \\u0432\\u0437\\u044b\\u0441\\u043a\\u0430\\u043d\\u0438\\u0435 \\u0442\\u043e \\u0432\\u0441\\u044f \\u0437\\u0430\\u0440\\u043f\\u043b\\u0430\\u0442\\u0430 \\u0443\\u0448\\u043b\\u0430 \\u043d\\u0430 \\u0432\\u0437\\u044b\\u0441\\u043a\\u0430\\u043d\\u0438\\u0435, \\u043c\\u043d\\u043e\\u044e \\u0431\\u044b\\u043b\\u043e \\u0441\\u043e\\u043e\\u0431\\u0449\\u0435\\u043d\\u043e \\u0432 \\u0431\\u0430\\u043d\\u043a, \\u0447\\u0442\\u043e \\u0440\\u0430\\u0431\\u043e\\u0442\\u043e\\u0434\\u0430\\u0442\\u0435\\u043b\\u044c \\u0443\\u0436\\u0435 \\u0441\\u043f\\u0438\\u0441\\u0430\\u043b 50% \\u0437\\u0430\\u0440\\u043f\\u043b\\u0430\\u0442\\u044b \\u043f\\u043e \\u0438\\u0441\\u043f\\u043e\\u043b\\u043d\\u0438\\u0442\\u0435\\u043b\\u044c\\u043d\\u043e\\u043c\\u0443 \\u0438 \\u0447\\u0442\\u043e \\u043f\\u043e\\u0441\\u0442\\u0443\\u043f\\u0438\\u0432\\u0448\\u0443\\u044e (\\u0442\\u0430\\u043a \\u043a\\u0430\\u043a \\u043e\\u043d\\u0430 \\u044f\\u0432\\u043b\\u044f\\u0435\\u0442\\u0441\\u044f \\u0437\\u0430\\u0449\\u0438\\u0449\\u0451\\u043d\\u043d\\u044b\\u043c \\u043e\\u0441\\u0442\\u0430\\u0442\\u043a\\u043e\\u043c) \\u0441\\u0443\\u043c\\u043c\\u0443 \\u0445\\u043e\\u0447\\u0443 \\u043f\\u0435\\u0440\\u0435\\u0432\\u0435\\u0441\\u0442\\u0438 \\u0434\\u0440\\u0443\\u0433\\u043e\\u043c\\u0443 \\u0447\\u0435\\u043b\\u043e\\u0432\\u0435\\u043a\\u0443 \\u0432 \\u0438\\u0445 \\u0431\\u0430\\u043d\\u043a,  \\u043e\\u0431\\u0440\\u0430\\u0449\\u0435\\u043d\\u0438\\u0435 \\u043e\\u0431\\u0435\\u0449\\u0430\\u043b\\u0438 \\u0440\\u0435\\u0448\\u0438\\u0442\\u044c \\u0434\\u043e 01 \\u043c\\u0430\\u0440\\u0442\\u0430, \\u043d\\u043e \\u0442\\u0430\\u043a \\u0438 \\u043d\\u0435 \\u0440\\u0435\\u0448\\u0438\\u043b\\u0438, \\u043f\\u0440\\u043e\\u0441\\u044f\\u0442 \\u043f\\u043e\\u0434\\u043e\\u0436\\u0434\\u0430\\u0442\\u044c \\u0435\\u0449\\u0435 \\u043d\\u0435\\u0441\\u043a\\u043e\\u043b\\u044c\\u043a\\u043e \\u0434\\u043d\\u0435\\u0439, \\u043d\\u043e \\u0443 \\u043c\\u0435\\u043d\\u044f \\u043d\\u0435\\u0442 \\u0432\\u0440\\u0435\\u043c\\u0435\\u043d\\u0438 \\u0436\\u0434\\u0430\\u0442\\u044c, \\u044d\\u0442\\u043e \\u0435\\u0434\\u0438\\u043d\\u0441\\u0442\\u0432\\u0435\\u043d\\u043d\\u044b\\u0439 \\u0434\\u043e\\u0445\\u043e\\u0434 \\u043d\\u0430 \\u0441\\u0435\\u043c\\u044c\\u044e. \\u0423\\u0436\\u0430\\u0441\\u043d\\u044b\\u0439 \\u0431\\u0430\\u043d\\u043a, \\u0443\\u0436\\u0430\\u0441\\u043d\\u043e\\u0435 \\u043e\\u0431\\u0441\\u043b\\u0443\\u0436\\u0438\\u0432\\u0430\\u043d\\u0438\\u0435.\",\n          \"\\u0425\\u043e\\u0447\\u0443 \\u043e\\u0442\\u043c\\u0435\\u0442\\u0438\\u0442\\u044c \\u043e\\u0442\\u0434\\u0435\\u043b \\u041a\\u042d\\u041f \\u0438 \\u041a-\\u0432\\u0430 \\u0412\\u0438\\u0442\\u0430\\u043b\\u0438\\u044f \\u0432 \\u0447\\u0430\\u0441\\u0442\\u043d\\u043e\\u0441\\u0442\\u0438. \\r\\n\\r\\n\\u041e\\u0447\\u0435\\u043d\\u044c \\u0433\\u0440\\u0430\\u043c\\u043e\\u0442\\u043d\\u0430\\u044f \\u0440\\u0430\\u0431\\u043e\\u0442\\u0430! \\u0414\\u043e \\u044d\\u0442\\u043e\\u0433\\u043e \\u044f \\u043c\\u0435\\u0441\\u044f\\u0446 \\u0431\\u0438\\u043b\\u0441\\u044f \\u0441 \\u043d\\u0430\\u0441\\u0442\\u0440\\u043e\\u0439\\u043a\\u043e\\u0439 \\u041a\\u0432\\u0430\\u043b\\u0438\\u0444\\u0438\\u0446\\u0438\\u0440\\u043e\\u0432\\u0430\\u043d\\u043d\\u043e\\u0439 \\u042d\\u043b\\u0435\\u043a\\u0442\\u0440\\u043e\\u043d\\u043d\\u043e\\u0439 \\u041f\\u043e\\u0434\\u043f\\u0438\\u0441\\u0438. \\u041a\\u0430\\u0437\\u0430\\u043b\\u043e\\u0441\\u044c \\u0431\\u044b \\u044d\\u0442\\u043e \\u0434\\u043e\\u043b\\u0436\\u043d\\u0430 \\u0431\\u044b\\u0442\\u044c \\u0440\\u0443\\u0442\\u0438\\u043d\\u043d\\u0430\\u044f \\u044d\\u043b\\u0435\\u043c\\u0435\\u043d\\u0442\\u0430\\u0440\\u043d\\u0430\\u044f \\u043f\\u0440\\u043e\\u0446\\u0435\\u0434\\u0443\\u0440\\u0430. \\u041d\\u043e \\u0443 \\u041f\\u041e \\u043d\\u0435\\u0441\\u043a\\u043e\\u043b\\u044c\\u043a\\u043e \\u0443\\u0441\\u0442\\u0430\\u043d\\u043e\\u0432\\u0449\\u0438\\u043a\\u043e\\u0432, \\u043a\\u0430\\u043a\\u043e\\u0439 \\u0432\\u044b\\u0431\\u0440\\u0430\\u0442\\u044c \\u043d\\u0435 \\u044f\\u0441\\u043d\\u043e, \\u0434\\u043e\\u043f\\u043e\\u043b\\u043d\\u0438\\u0442\\u0435\\u043b\\u044c\\u043d\\u043e \\u043d\\u0443\\u0436\\u043d\\u043e \\u0443\\u0441\\u0442\\u0430\\u043d\\u043e\\u0432\\u0438\\u0442\\u044c \\u0440\\u0438\\u0434\\u0435\\u0440 \\u0434\\u043b\\u044f \\u0447\\u0442\\u0435\\u043d\\u0438\\u044f \\u0442\\u043e\\u043a\\u0435\\u043d\\u0430-\\u0444\\u043b\\u0435\\u0448\\u043a\\u0438, \\u0443\\u0441\\u0442\\u0430\\u043d\\u043e\\u0432\\u0438\\u0442\\u044c \\u0441\\u0442\\u043e \\u043f\\u044f\\u0442\\u044c\\u0434\\u0435\\u0441\\u044f\\u0442 \\u0441\\u0435\\u0440\\u0442\\u0438\\u0444\\u0438\\u043a\\u0430\\u0442\\u043e\\u0432, \\u043f\\u043b\\u0430\\u0433\\u0438\\u043d\\u043e\\u0432 \\u0434\\u043b\\u044f \\u0431\\u0440\\u0430\\u0443\\u0437\\u0435\\u0440\\u043e\\u0432 \\u0438 \\u0442.\\u0434 \\u0438 \\u0442.\\u043f. \\u0412 \\u0438\\u0442\\u043e\\u0433\\u0435 \\u044f \\u0435\\u0435 \\u043d\\u0430\\u0441\\u0442\\u0440\\u043e\\u0438\\u043b \\u0434\\u043e \\u0441\\u043e\\u0441\\u0442\\u043e\\u044f\\u043d\\u0438\\u044f \\u043a\\u043e\\u0433\\u0434\\u0430 \\u0441\\u043c\\u043e\\u0433 \\u0443\\u0441\\u0442\\u0430\\u043d\\u043e\\u0432\\u0438\\u0442\\u044c \\u0441\\u0435\\u0440\\u0442\\u0438\\u0444\\u0438\\u043a\\u0430\\u0442, \\u043e\\u043d \\u0447\\u0438\\u0442\\u0430\\u043b\\u0441\\u044f \\u0438 \\u0440\\u0430\\u0441\\u043f\\u043e\\u0437\\u043d\\u0430\\u0432\\u0430\\u043b\\u0441\\u044f \\u0442\\u0435\\u0441\\u0442\\u043e\\u0432\\u044b\\u043c\\u0438 \\u0441\\u0442\\u0440\\u0430\\u043d\\u0438\\u0446\\u0430\\u043c\\u0438 \\u0438 \\u0432\\u0440\\u043e\\u0434\\u0435 \\u043a\\u0430\\u043a \\u0432\\u0441\\u0435 \\u0431\\u044b\\u043b\\u043e \\u0433\\u043e\\u0442\\u043e\\u0432\\u043e \\u043a \\u0440\\u0430\\u0431\\u043e\\u0442\\u0435. \\u041d\\u043e \\u043e\\u043a\\u0430\\u0437\\u0430\\u043b\\u043e\\u0441\\u044c \\u043d\\u0435\\u0442. \\r\\n\\r\\n\\u0412\\u0438\\u0442\\u0430\\u043b\\u0438\\u0439 \\u043f\\u043e\\u043c\\u043e\\u0433 \\u043f\\u0440\\u043e\\u0439\\u0442\\u0438 \\u043f\\u043e\\u0441\\u043b\\u0435\\u0434\\u043d\\u0438\\u0439 \\u0448\\u0430\\u0433. \\u0421\\u043f\\u0430\\u0441\\u0438\\u0431\\u043e \\u0435\\u043c\\u0443 \\u043e\\u0433\\u0440\\u043e\\u043c\\u043d\\u043e\\u0435! \\u042f \\u0431\\u044b\\u043b \\u043e\\u0447\\u0435\\u043d\\u044c \\u043f\\u0440\\u0438\\u044f\\u0442\\u043d\\u043e \\u0443\\u0434\\u0438\\u0432\\u043b\\u0435\\u043d \\u0441\\u043a\\u043e\\u043b\\u044c\\u043a\\u043e \\u0441\\u043b\\u0443\\u0436\\u0431\\u0430 \\u043f\\u043e\\u0434\\u0434\\u0435\\u0440\\u0436\\u043a\\u0438 \\u0433\\u043e\\u0442\\u043e\\u0432\\u0430 \\u043d\\u0430 \\u043c\\u0435\\u043d\\u044f \\u0442\\u0440\\u0430\\u0442\\u0438\\u0442\\u044c \\u0432\\u0440\\u0435\\u043c\\u0435\\u043d\\u0438 \\u0447\\u0442\\u043e\\u0431\\u044b \\u0440\\u0435\\u0448\\u0438\\u0442\\u044c \\u043c\\u043e\\u044e \\u043f\\u0440\\u043e\\u0431\\u043b\\u0435\\u043c\\u0443 \\u0438 \\u043f\\u0440\\u043e\\u0432\\u0435\\u0441\\u0442\\u0438 \\u043f\\u043e \\u0442\\u0435\\u0445\\u043d\\u043e\\u043b\\u043e\\u0433\\u0438\\u0447\\u0435\\u0441\\u043a\\u043e\\u043c\\u0443 \\u043b\\u0430\\u0431\\u0438\\u0440\\u0438\\u043d\\u0442\\u0443. \\u0422\\u0430\\u043a \\u0436\\u0435 \\u043e\\u0442\\u043c\\u0435\\u0447\\u0443 \\u0447\\u0442\\u043e \\u0443 \\u0422\\u0438\\u043d\\u044c\\u043a\\u043e\\u0432\\u0430 \\u0435\\u0441\\u0442\\u044c \\u0441\\u0435\\u0440\\u0432\\u0438\\u0441 \\u043f\\u043e \\u043d\\u0430\\u0441\\u0442\\u0440\\u043e\\u0439\\u043a\\u0435 \\u041a\\u042d\\u041f, \\u043a\\u043e\\u0442\\u043e\\u0440\\u044b\\u0439 \\u043c\\u043d\\u043e\\u0433\\u043e\\u0435, \\u0435\\u0441\\u043b\\u0438 \\u043d\\u0435 \\u0432\\u0441\\u0435 \\u0443\\u0441\\u0442\\u0430\\u043d\\u043e\\u0432\\u0438\\u0442 \\u0438 \\u0441\\u0434\\u0435\\u043b\\u0430\\u0435\\u0442 \\u0437\\u0430 \\u0432\\u0430\\u0441 (\\u0447\\u0438\\u0442\\u0430\\u0442\\u044c \\u0437\\u0434\\u0435\\u0441\\u044c https://www.tinkoff.ru/business/help/solutions/signature/use/customize/?card=q1) - \\u043e\\u0447\\u0435\\u043d\\u044c \\u043a\\u0440\\u0443\\u0442\\u043e. \\u0412 \\u0442\\u043e\\u043c \\u0447\\u0438\\u0441\\u043b\\u0435 \\u0431\\u043b\\u0430\\u0433\\u043e\\u0434\\u0430\\u0440\\u044f \\u0435\\u043c\\u0443 \\u0443\\u0434\\u0430\\u043b\\u043e\\u0441\\u044c \\u0432\\u0441\\u0435 \\u0441\\u0434\\u0435\\u043b\\u0430\\u0442\\u044c \\u0431\\u044b\\u0441\\u0442\\u0440\\u043e. \\u041c\\u043e\\u043b\\u043e\\u0434\\u0446\\u044b!!!\",\n          \"24 \\u0444\\u0435\\u0432\\u0440\\u0430\\u043b\\u044f  2024 \\u0433. \\u0440\\u0435\\u0448\\u0438\\u043b\\u0430 \\u0432\\u043e\\u0441\\u043f\\u043e\\u043b\\u044c\\u0437\\u043e\\u0432\\u0430\\u0442\\u044c\\u0441\\u044f \\u043f\\u0440\\u0435\\u0434\\u043b\\u043e\\u0436\\u0435\\u043d\\u0438\\u0435\\u043c \\u0411\\u0430\\u043d\\u043a\\u0430:\\u043a\\u044d\\u0448\\u0431\\u0435\\u043a \\u043f\\u0440\\u0438 \\u043f\\u0440\\u043a\\u0443\\u043f\\u043a\\u0435 \\u043f\\u0440\\u043e\\u0434\\u0443\\u043a\\u0446\\u0438\\u0438  \\u0428\\u0430\\u0440\\u043c\\u044d\\u043b\\u044c.\\u041e\\u043f\\u043b\\u0430\\u0442\\u0438\\u0432 \\u0442\\u043e\\u0432\\u0430\\u0440 \\u0432 \\u043c\\u0430\\u0433\\u0430\\u0437\\u0438\\u043d\\u0435 \\u0441\\u0442\\u0430\\u043b\\u0430 \\u0441\\u043a\\u0430\\u043d\\u0438\\u0440\\u043e\\u0432\\u0430\\u0442\\u044c \\u0447\\u0435\\u043a \\u0432 \\u043f\\u0440\\u0438\\u043b\\u043e\\u0436\\u0435\\u043d\\u0438\\u0438 \\u0411\\u0430\\u043d\\u043a\\u0430,\\u043d\\u043e \\u0441\\u0434\\u0435\\u043b\\u0430\\u0442\\u044c \\u044d\\u0442\\u043e \\u043d\\u0435 \\u0443\\u0434\\u0430\\u043b\\u043e\\u0441\\u044c-\\u0432\\u044b\\u0434\\u0430\\u0432\\u0430\\u043b\\u0430\\u0441\\u044c \\u043e\\u0448\\u0438\\u0431\\u043a\\u0430.\\r\\n\\r\\n\\u042f \\u043e\\u0431\\u0440\\u0430\\u0442\\u0438\\u043b\\u0430\\u0441\\u044c \\u0432 \\u0427\\u0430\\u0442 \\u0431\\u0430\\u043d\\u043a\\u0430.\\u0421\\u043f\\u0435\\u0446\\u0438\\u0430\\u043b\\u0438\\u0441\\u0442 \\u0411\\u0430\\u043d\\u043a\\u0430 \\u0440\\u0430\\u0437\\u043e\\u0431\\u0440\\u0430\\u043b\\u0441\\u044f \\u0432 \\u043c\\u043e\\u0435\\u043c \\u0432\\u043e\\u043f\\u0440\\u043e\\u0441\\u0435,\\u0441\\u043e\\u0441\\u0442\\u0430\\u0432\\u0438\\u043b \\u043e\\u0431\\u0440\\u0430\\u0449\\u0435\\u043d\\u0438\\u0435 \\u0432 \\u0411\\u0430\\u043d\\u043a. \\u0412 \\u0442\\u0435\\u0447\\u0435\\u043d\\u0438\\u0435 \\u0447\\u0430\\u0441\\u0430 \\u043c\\u043e\\u0439 \\u0432\\u043e\\u043f\\u0440\\u043e\\u0441 \\u0431\\u044b\\u043b \\u043f\\u043e\\u043b\\u043e\\u0436\\u0438\\u0442\\u0435\\u043b\\u044c\\u043d\\u043e \\u0440\\u0435\\u0448\\u0435\\u043d \\u0438 \\u0441\\u0443\\u043c\\u043c\\u0443 \\u043e\\u0431\\u0435\\u0449\\u0430\\u043d\\u043d\\u043e\\u0433\\u043e \\u043f\\u043e \\u0430\\u043a\\u0446\\u0438\\u0438 \\u043a\\u0435\\u0448\\u0431\\u0435\\u043a\\u0430 \\u0437\\u0430\\u0447\\u0438\\u0441\\u043b\\u0438\\u043b\\u0438 \\u043d\\u0430 \\u043c\\u043e\\u0439 \\u0441\\u0447\\u0435\\u0442.\\u041e\\u0447\\u0435\\u043d\\u044c \\u043e\\u043f\\u0435\\u0440\\u0430\\u0442\\u0438\\u0432\\u043d\\u043e!\\u0421\\u043f\\u0430\\u0441\\u0438\\u0431\\u043e \\u0411\\u0430\\u043d\\u043a\\u0443 \\u0438 \\u0435\\u0433\\u043e \\u0441\\u043e\\u0442\\u0440\\u0443\\u0434\\u043d\\u0438\\u043a\\u0430\\u043c\\u0438\\u0437\\u0430 \\u0432\\u043d\\u0438\\u043c\\u0430\\u043d\\u0438\\u0435 \\u0438 \\u043f\\u043e\\u043c\\u043e\\u0449\\u044c!\"\n        ],\n        \"semantic_type\": \"\",\n        \"description\": \"\"\n      }\n    }\n  ]\n}"
            }
          },
          "metadata": {},
          "execution_count": 13
        }
      ]
    },
    {
      "cell_type": "code",
      "source": [
        "df[\"message\"] = df[\"message\"].astype(str)\n",
        "df.dtypes"
      ],
      "metadata": {
        "colab": {
          "base_uri": "https://localhost:8080/"
        },
        "id": "vGyJkKI2j2Fz",
        "outputId": "d7455c0a-c4c4-4f5c-d44d-0fd741b00855"
      },
      "execution_count": 14,
      "outputs": [
        {
          "output_type": "execute_result",
          "data": {
            "text/plain": [
              "Unnamed: 0       int64\n",
              "header          object\n",
              "created_date    object\n",
              "rating           int64\n",
              "message         object\n",
              "dtype: object"
            ]
          },
          "metadata": {},
          "execution_count": 14
        }
      ]
    },
    {
      "cell_type": "code",
      "source": [
        "df['preprocessed_message'] = df['message'].apply(lambda review: data_preprocessing(review))\n",
        "df['preprocessed_header'] = df['header'].apply(lambda review: data_preprocessing(review))\n",
        "\n",
        "df.head()"
      ],
      "metadata": {
        "colab": {
          "base_uri": "https://localhost:8080/",
          "height": 414
        },
        "id": "8vNueEjJhK0j",
        "outputId": "f5cdb4e4-30b5-42cf-8c3b-e8ff24808a92"
      },
      "execution_count": 15,
      "outputs": [
        {
          "output_type": "execute_result",
          "data": {
            "text/plain": [
              "   Unnamed: 0                                             header  \\\n",
              "0           0                                          Поддержка   \n",
              "1           1                              Персональный Менеджер   \n",
              "2           2                                  Самый лучший банк   \n",
              "3           3  Обращение по отправке годовой декларации в нал...   \n",
              "4           4  Спасибо большое сотрудникам Тинькофф поддержки...   \n",
              "\n",
              "       created_date  rating  \\\n",
              "0  01.03.2024 22:39       5   \n",
              "1  26.02.2024 14:48       5   \n",
              "2  09.03.2024 10:39       5   \n",
              "3  05.03.2024 18:15       5   \n",
              "4  26.02.2024 16:01       5   \n",
              "\n",
              "                                             message  \\\n",
              "0  Хочу выразить огромную благодарность сотрудник...   \n",
              "1                                       Добрый день.   \n",
              "2  Очень редко пишу отзывы, но сейчас то самое вр...   \n",
              "3  Общалась с Ф-вой Натальей несколько дней. Снач...   \n",
              "4  26,02 обратились в Тиньков по спорному моменту...   \n",
              "\n",
              "                                preprocessed_message  \\\n",
              "0  хотеть выразить огромный благодарность сотрудн...   \n",
              "1                                        добрый день   \n",
              "2  очень редко писать отзыв самый время самый хор...   \n",
              "3  общаться фвой наталья несколько день сначала у...   \n",
              "4  обратиться тиньковы спорный момент перевод ден...   \n",
              "\n",
              "                                 preprocessed_header  \n",
              "0                                          поддержка  \n",
              "1                              персональный менеджер  \n",
              "2                                 самый хороший банк  \n",
              "3    обращение отправка годовой декларация налоговый  \n",
              "4  спасибо большой сотрудник тинькофф поддержка б...  "
            ],
            "text/html": [
              "\n",
              "  <div id=\"df-29979917-abe3-49ea-8bdf-f0196b3de311\" class=\"colab-df-container\">\n",
              "    <div>\n",
              "<style scoped>\n",
              "    .dataframe tbody tr th:only-of-type {\n",
              "        vertical-align: middle;\n",
              "    }\n",
              "\n",
              "    .dataframe tbody tr th {\n",
              "        vertical-align: top;\n",
              "    }\n",
              "\n",
              "    .dataframe thead th {\n",
              "        text-align: right;\n",
              "    }\n",
              "</style>\n",
              "<table border=\"1\" class=\"dataframe\">\n",
              "  <thead>\n",
              "    <tr style=\"text-align: right;\">\n",
              "      <th></th>\n",
              "      <th>Unnamed: 0</th>\n",
              "      <th>header</th>\n",
              "      <th>created_date</th>\n",
              "      <th>rating</th>\n",
              "      <th>message</th>\n",
              "      <th>preprocessed_message</th>\n",
              "      <th>preprocessed_header</th>\n",
              "    </tr>\n",
              "  </thead>\n",
              "  <tbody>\n",
              "    <tr>\n",
              "      <th>0</th>\n",
              "      <td>0</td>\n",
              "      <td>Поддержка</td>\n",
              "      <td>01.03.2024 22:39</td>\n",
              "      <td>5</td>\n",
              "      <td>Хочу выразить огромную благодарность сотрудник...</td>\n",
              "      <td>хотеть выразить огромный благодарность сотрудн...</td>\n",
              "      <td>поддержка</td>\n",
              "    </tr>\n",
              "    <tr>\n",
              "      <th>1</th>\n",
              "      <td>1</td>\n",
              "      <td>Персональный Менеджер</td>\n",
              "      <td>26.02.2024 14:48</td>\n",
              "      <td>5</td>\n",
              "      <td>Добрый день.</td>\n",
              "      <td>добрый день</td>\n",
              "      <td>персональный менеджер</td>\n",
              "    </tr>\n",
              "    <tr>\n",
              "      <th>2</th>\n",
              "      <td>2</td>\n",
              "      <td>Самый лучший банк</td>\n",
              "      <td>09.03.2024 10:39</td>\n",
              "      <td>5</td>\n",
              "      <td>Очень редко пишу отзывы, но сейчас то самое вр...</td>\n",
              "      <td>очень редко писать отзыв самый время самый хор...</td>\n",
              "      <td>самый хороший банк</td>\n",
              "    </tr>\n",
              "    <tr>\n",
              "      <th>3</th>\n",
              "      <td>3</td>\n",
              "      <td>Обращение по отправке годовой декларации в нал...</td>\n",
              "      <td>05.03.2024 18:15</td>\n",
              "      <td>5</td>\n",
              "      <td>Общалась с Ф-вой Натальей несколько дней. Снач...</td>\n",
              "      <td>общаться фвой наталья несколько день сначала у...</td>\n",
              "      <td>обращение отправка годовой декларация налоговый</td>\n",
              "    </tr>\n",
              "    <tr>\n",
              "      <th>4</th>\n",
              "      <td>4</td>\n",
              "      <td>Спасибо большое сотрудникам Тинькофф поддержки...</td>\n",
              "      <td>26.02.2024 16:01</td>\n",
              "      <td>5</td>\n",
              "      <td>26,02 обратились в Тиньков по спорному моменту...</td>\n",
              "      <td>обратиться тиньковы спорный момент перевод ден...</td>\n",
              "      <td>спасибо большой сотрудник тинькофф поддержка б...</td>\n",
              "    </tr>\n",
              "  </tbody>\n",
              "</table>\n",
              "</div>\n",
              "    <div class=\"colab-df-buttons\">\n",
              "\n",
              "  <div class=\"colab-df-container\">\n",
              "    <button class=\"colab-df-convert\" onclick=\"convertToInteractive('df-29979917-abe3-49ea-8bdf-f0196b3de311')\"\n",
              "            title=\"Convert this dataframe to an interactive table.\"\n",
              "            style=\"display:none;\">\n",
              "\n",
              "  <svg xmlns=\"http://www.w3.org/2000/svg\" height=\"24px\" viewBox=\"0 -960 960 960\">\n",
              "    <path d=\"M120-120v-720h720v720H120Zm60-500h600v-160H180v160Zm220 220h160v-160H400v160Zm0 220h160v-160H400v160ZM180-400h160v-160H180v160Zm440 0h160v-160H620v160ZM180-180h160v-160H180v160Zm440 0h160v-160H620v160Z\"/>\n",
              "  </svg>\n",
              "    </button>\n",
              "\n",
              "  <style>\n",
              "    .colab-df-container {\n",
              "      display:flex;\n",
              "      gap: 12px;\n",
              "    }\n",
              "\n",
              "    .colab-df-convert {\n",
              "      background-color: #E8F0FE;\n",
              "      border: none;\n",
              "      border-radius: 50%;\n",
              "      cursor: pointer;\n",
              "      display: none;\n",
              "      fill: #1967D2;\n",
              "      height: 32px;\n",
              "      padding: 0 0 0 0;\n",
              "      width: 32px;\n",
              "    }\n",
              "\n",
              "    .colab-df-convert:hover {\n",
              "      background-color: #E2EBFA;\n",
              "      box-shadow: 0px 1px 2px rgba(60, 64, 67, 0.3), 0px 1px 3px 1px rgba(60, 64, 67, 0.15);\n",
              "      fill: #174EA6;\n",
              "    }\n",
              "\n",
              "    .colab-df-buttons div {\n",
              "      margin-bottom: 4px;\n",
              "    }\n",
              "\n",
              "    [theme=dark] .colab-df-convert {\n",
              "      background-color: #3B4455;\n",
              "      fill: #D2E3FC;\n",
              "    }\n",
              "\n",
              "    [theme=dark] .colab-df-convert:hover {\n",
              "      background-color: #434B5C;\n",
              "      box-shadow: 0px 1px 3px 1px rgba(0, 0, 0, 0.15);\n",
              "      filter: drop-shadow(0px 1px 2px rgba(0, 0, 0, 0.3));\n",
              "      fill: #FFFFFF;\n",
              "    }\n",
              "  </style>\n",
              "\n",
              "    <script>\n",
              "      const buttonEl =\n",
              "        document.querySelector('#df-29979917-abe3-49ea-8bdf-f0196b3de311 button.colab-df-convert');\n",
              "      buttonEl.style.display =\n",
              "        google.colab.kernel.accessAllowed ? 'block' : 'none';\n",
              "\n",
              "      async function convertToInteractive(key) {\n",
              "        const element = document.querySelector('#df-29979917-abe3-49ea-8bdf-f0196b3de311');\n",
              "        const dataTable =\n",
              "          await google.colab.kernel.invokeFunction('convertToInteractive',\n",
              "                                                    [key], {});\n",
              "        if (!dataTable) return;\n",
              "\n",
              "        const docLinkHtml = 'Like what you see? Visit the ' +\n",
              "          '<a target=\"_blank\" href=https://colab.research.google.com/notebooks/data_table.ipynb>data table notebook</a>'\n",
              "          + ' to learn more about interactive tables.';\n",
              "        element.innerHTML = '';\n",
              "        dataTable['output_type'] = 'display_data';\n",
              "        await google.colab.output.renderOutput(dataTable, element);\n",
              "        const docLink = document.createElement('div');\n",
              "        docLink.innerHTML = docLinkHtml;\n",
              "        element.appendChild(docLink);\n",
              "      }\n",
              "    </script>\n",
              "  </div>\n",
              "\n",
              "\n",
              "<div id=\"df-e636f157-4ffd-4ab6-86aa-7e5d09e86cd1\">\n",
              "  <button class=\"colab-df-quickchart\" onclick=\"quickchart('df-e636f157-4ffd-4ab6-86aa-7e5d09e86cd1')\"\n",
              "            title=\"Suggest charts\"\n",
              "            style=\"display:none;\">\n",
              "\n",
              "<svg xmlns=\"http://www.w3.org/2000/svg\" height=\"24px\"viewBox=\"0 0 24 24\"\n",
              "     width=\"24px\">\n",
              "    <g>\n",
              "        <path d=\"M19 3H5c-1.1 0-2 .9-2 2v14c0 1.1.9 2 2 2h14c1.1 0 2-.9 2-2V5c0-1.1-.9-2-2-2zM9 17H7v-7h2v7zm4 0h-2V7h2v10zm4 0h-2v-4h2v4z\"/>\n",
              "    </g>\n",
              "</svg>\n",
              "  </button>\n",
              "\n",
              "<style>\n",
              "  .colab-df-quickchart {\n",
              "      --bg-color: #E8F0FE;\n",
              "      --fill-color: #1967D2;\n",
              "      --hover-bg-color: #E2EBFA;\n",
              "      --hover-fill-color: #174EA6;\n",
              "      --disabled-fill-color: #AAA;\n",
              "      --disabled-bg-color: #DDD;\n",
              "  }\n",
              "\n",
              "  [theme=dark] .colab-df-quickchart {\n",
              "      --bg-color: #3B4455;\n",
              "      --fill-color: #D2E3FC;\n",
              "      --hover-bg-color: #434B5C;\n",
              "      --hover-fill-color: #FFFFFF;\n",
              "      --disabled-bg-color: #3B4455;\n",
              "      --disabled-fill-color: #666;\n",
              "  }\n",
              "\n",
              "  .colab-df-quickchart {\n",
              "    background-color: var(--bg-color);\n",
              "    border: none;\n",
              "    border-radius: 50%;\n",
              "    cursor: pointer;\n",
              "    display: none;\n",
              "    fill: var(--fill-color);\n",
              "    height: 32px;\n",
              "    padding: 0;\n",
              "    width: 32px;\n",
              "  }\n",
              "\n",
              "  .colab-df-quickchart:hover {\n",
              "    background-color: var(--hover-bg-color);\n",
              "    box-shadow: 0 1px 2px rgba(60, 64, 67, 0.3), 0 1px 3px 1px rgba(60, 64, 67, 0.15);\n",
              "    fill: var(--button-hover-fill-color);\n",
              "  }\n",
              "\n",
              "  .colab-df-quickchart-complete:disabled,\n",
              "  .colab-df-quickchart-complete:disabled:hover {\n",
              "    background-color: var(--disabled-bg-color);\n",
              "    fill: var(--disabled-fill-color);\n",
              "    box-shadow: none;\n",
              "  }\n",
              "\n",
              "  .colab-df-spinner {\n",
              "    border: 2px solid var(--fill-color);\n",
              "    border-color: transparent;\n",
              "    border-bottom-color: var(--fill-color);\n",
              "    animation:\n",
              "      spin 1s steps(1) infinite;\n",
              "  }\n",
              "\n",
              "  @keyframes spin {\n",
              "    0% {\n",
              "      border-color: transparent;\n",
              "      border-bottom-color: var(--fill-color);\n",
              "      border-left-color: var(--fill-color);\n",
              "    }\n",
              "    20% {\n",
              "      border-color: transparent;\n",
              "      border-left-color: var(--fill-color);\n",
              "      border-top-color: var(--fill-color);\n",
              "    }\n",
              "    30% {\n",
              "      border-color: transparent;\n",
              "      border-left-color: var(--fill-color);\n",
              "      border-top-color: var(--fill-color);\n",
              "      border-right-color: var(--fill-color);\n",
              "    }\n",
              "    40% {\n",
              "      border-color: transparent;\n",
              "      border-right-color: var(--fill-color);\n",
              "      border-top-color: var(--fill-color);\n",
              "    }\n",
              "    60% {\n",
              "      border-color: transparent;\n",
              "      border-right-color: var(--fill-color);\n",
              "    }\n",
              "    80% {\n",
              "      border-color: transparent;\n",
              "      border-right-color: var(--fill-color);\n",
              "      border-bottom-color: var(--fill-color);\n",
              "    }\n",
              "    90% {\n",
              "      border-color: transparent;\n",
              "      border-bottom-color: var(--fill-color);\n",
              "    }\n",
              "  }\n",
              "</style>\n",
              "\n",
              "  <script>\n",
              "    async function quickchart(key) {\n",
              "      const quickchartButtonEl =\n",
              "        document.querySelector('#' + key + ' button');\n",
              "      quickchartButtonEl.disabled = true;  // To prevent multiple clicks.\n",
              "      quickchartButtonEl.classList.add('colab-df-spinner');\n",
              "      try {\n",
              "        const charts = await google.colab.kernel.invokeFunction(\n",
              "            'suggestCharts', [key], {});\n",
              "      } catch (error) {\n",
              "        console.error('Error during call to suggestCharts:', error);\n",
              "      }\n",
              "      quickchartButtonEl.classList.remove('colab-df-spinner');\n",
              "      quickchartButtonEl.classList.add('colab-df-quickchart-complete');\n",
              "    }\n",
              "    (() => {\n",
              "      let quickchartButtonEl =\n",
              "        document.querySelector('#df-e636f157-4ffd-4ab6-86aa-7e5d09e86cd1 button');\n",
              "      quickchartButtonEl.style.display =\n",
              "        google.colab.kernel.accessAllowed ? 'block' : 'none';\n",
              "    })();\n",
              "  </script>\n",
              "</div>\n",
              "    </div>\n",
              "  </div>\n"
            ],
            "application/vnd.google.colaboratory.intrinsic+json": {
              "type": "dataframe",
              "variable_name": "df",
              "summary": "{\n  \"name\": \"df\",\n  \"rows\": 4117,\n  \"fields\": [\n    {\n      \"column\": \"Unnamed: 0\",\n      \"properties\": {\n        \"dtype\": \"number\",\n        \"std\": 1188,\n        \"min\": 0,\n        \"max\": 4116,\n        \"num_unique_values\": 4117,\n        \"samples\": [\n          2648,\n          843,\n          2222\n        ],\n        \"semantic_type\": \"\",\n        \"description\": \"\"\n      }\n    },\n    {\n      \"column\": \"header\",\n      \"properties\": {\n        \"dtype\": \"string\",\n        \"num_unique_values\": 3212,\n        \"samples\": [\n          \"\\u041e\\u0447\\u0435\\u0440\\u0435\\u0434\\u043d\\u043e\\u0439 \\u043f\\u0440\\u0438\\u044f\\u0442\\u043d\\u044b\\u0439 \\u0441\\u044e\\u0440\\u043f\\u0440\\u0438\\u0437\",\n          \"\\u041f\\u043e\\u0434\\u043e\\u0431\\u0440\\u0430\\u043b\\u0438 \\u0438\\u0434\\u0435\\u0430\\u043b\\u044c\\u043d\\u044b\\u0435 \\u0443\\u0441\\u043b\\u043e\\u0432\\u0438\\u044f\",\n          \"\\u041f\\u0440\\u0438\\u044f\\u0442\\u043d\\u044b\\u0435 \\u0440\\u0430\\u0431\\u043e\\u0442\\u043d\\u0438\\u043a\\u0438 \\u0432 \\u0422\\u0438\\u043d\\u044c\\u043a\\u043e\\u0444\\u0444\"\n        ],\n        \"semantic_type\": \"\",\n        \"description\": \"\"\n      }\n    },\n    {\n      \"column\": \"created_date\",\n      \"properties\": {\n        \"dtype\": \"object\",\n        \"num_unique_values\": 3906,\n        \"samples\": [\n          \"15.02.2024 17:05\",\n          \"21.03.2024 21:35\",\n          \"02.03.2024 22:01\"\n        ],\n        \"semantic_type\": \"\",\n        \"description\": \"\"\n      }\n    },\n    {\n      \"column\": \"rating\",\n      \"properties\": {\n        \"dtype\": \"number\",\n        \"std\": 1,\n        \"min\": 1,\n        \"max\": 5,\n        \"num_unique_values\": 5,\n        \"samples\": [\n          1,\n          3,\n          2\n        ],\n        \"semantic_type\": \"\",\n        \"description\": \"\"\n      }\n    },\n    {\n      \"column\": \"message\",\n      \"properties\": {\n        \"dtype\": \"string\",\n        \"num_unique_values\": 4036,\n        \"samples\": [\n          \"\\u041f\\u043e\\u043b\\u044c\\u0437\\u0443\\u044e\\u0441\\u044c \\u0442\\u043e\\u043b\\u044c\\u043a\\u043e \\u0442\\u0438\\u043d\\u044c\\u043a\\u043e\\u0444\\u0444, \\u043d\\u043e \\u0441\\u0435\\u0433\\u043e\\u0434\\u043d\\u044f \\u043c\\u043d\\u0435 \\u0437\\u0430\\u043f\\u0440\\u0435\\u0442\\u0438\\u043b\\u0438 \\u0434\\u043e\\u0431\\u0430\\u0432\\u043b\\u044f\\u0442\\u044c \\u043a\\u0430\\u0440\\u0442\\u0443 \\u0432 mir pay, \\u043f\\u0440\\u0438\\u0447\\u0438\\u043d\\u0443 \\u043d\\u0435 \\u043d\\u0430\\u0437\\u044b\\u0432\\u0430\\u044e\\u0442, \\u043f\\u0435\\u0440\\u0435\\u0441\\u043c\\u043e\\u0442\\u0440\\u0435\\u0442\\u044c \\u0440\\u0435\\u0448\\u0435\\u043d\\u0438\\u0435 \\u0432\\u043e\\u0437\\u043c\\u043e\\u0436\\u043d\\u043e\\u0441\\u0442\\u0438 \\u043d\\u0435\\u0442, \\u043e\\u0447\\u0435\\u043d\\u044c \\u0441\\u0438\\u043b\\u044c\\u043d\\u043e \\u043d\\u0435 \\u0434\\u043e\\u0432\\u043e\\u043b\\u0435\\u043d, \\u043f\\u043b\\u0430\\u0441\\u0442\\u0438\\u043a \\u0442\\u0430\\u0441\\u043a\\u0430\\u0442\\u044c \\u0441 \\u0441\\u043e\\u0431\\u043e\\u0439 \\u043d\\u0435 \\u0445\\u043e\\u0447\\u0443, \\u043f\\u043e qr \\u043d\\u0435 \\u0443\\u0434\\u043e\\u0431\\u043d\\u043e, \\u0441\\u043b\\u0438\\u0448\\u043a\\u043e\\u043c \\u043c\\u043d\\u043e\\u0433\\u043e \\u0434\\u0435\\u0439\\u0441\\u0442\\u0432\\u0438\\u0439, \\u0442\\u0438\\u043d\\u044c\\u043a\\u043e\\u0444\\u0444 \\u043f\\u043e\\u0447\\u0435\\u043c\\u0443 \\u0442\\u0430\\u043a? \\u0412\\u0441\\u0451 \\u0445\\u043e\\u0440\\u043e\\u0448\\u043e \\u0431\\u044b\\u043b\\u043e, \\u043d\\u043e \\u0442\\u0435\\u043f\\u0435\\u0440\\u044c \\u043e\\u0442\\u043a\\u0430\\u0437\\u044b\\u0432\\u0430\\u044e\\u0442, \\u0438 \\u0433\\u043e\\u0432\\u043e\\u0440\\u044f\\u0442 \\u0447\\u0442\\u043e \\u044d\\u0442\\u043e \\u043d\\u0430\\u0432\\u0441\\u0435\\u0433\\u0434\\u0430, \\u043f\\u0440\\u0438\\u0439\\u0434\\u0435\\u0442\\u0441\\u044f \\u043f\\u0435\\u0440\\u0435\\u0445\\u043e\\u0434\\u0438\\u0442\\u044c \\u043d\\u0430 \\u0430\\u043b\\u044c\\u0444\\u0430 \\u0431\\u0430\\u043d\\u043a.\",\n          \"\\u0425\\u043e\\u0447\\u0443 \\u043e\\u0442\\u043c\\u0435\\u0442\\u0438\\u0442\\u044c \\u043e\\u0442\\u0434\\u0435\\u043b \\u041a\\u042d\\u041f \\u0438 \\u041a-\\u0432\\u0430 \\u0412\\u0438\\u0442\\u0430\\u043b\\u0438\\u044f \\u0432 \\u0447\\u0430\\u0441\\u0442\\u043d\\u043e\\u0441\\u0442\\u0438. \\r\\n\\r\\n\\u041e\\u0447\\u0435\\u043d\\u044c \\u0433\\u0440\\u0430\\u043c\\u043e\\u0442\\u043d\\u0430\\u044f \\u0440\\u0430\\u0431\\u043e\\u0442\\u0430! \\u0414\\u043e \\u044d\\u0442\\u043e\\u0433\\u043e \\u044f \\u043c\\u0435\\u0441\\u044f\\u0446 \\u0431\\u0438\\u043b\\u0441\\u044f \\u0441 \\u043d\\u0430\\u0441\\u0442\\u0440\\u043e\\u0439\\u043a\\u043e\\u0439 \\u041a\\u0432\\u0430\\u043b\\u0438\\u0444\\u0438\\u0446\\u0438\\u0440\\u043e\\u0432\\u0430\\u043d\\u043d\\u043e\\u0439 \\u042d\\u043b\\u0435\\u043a\\u0442\\u0440\\u043e\\u043d\\u043d\\u043e\\u0439 \\u041f\\u043e\\u0434\\u043f\\u0438\\u0441\\u0438. \\u041a\\u0430\\u0437\\u0430\\u043b\\u043e\\u0441\\u044c \\u0431\\u044b \\u044d\\u0442\\u043e \\u0434\\u043e\\u043b\\u0436\\u043d\\u0430 \\u0431\\u044b\\u0442\\u044c \\u0440\\u0443\\u0442\\u0438\\u043d\\u043d\\u0430\\u044f \\u044d\\u043b\\u0435\\u043c\\u0435\\u043d\\u0442\\u0430\\u0440\\u043d\\u0430\\u044f \\u043f\\u0440\\u043e\\u0446\\u0435\\u0434\\u0443\\u0440\\u0430. \\u041d\\u043e \\u0443 \\u041f\\u041e \\u043d\\u0435\\u0441\\u043a\\u043e\\u043b\\u044c\\u043a\\u043e \\u0443\\u0441\\u0442\\u0430\\u043d\\u043e\\u0432\\u0449\\u0438\\u043a\\u043e\\u0432, \\u043a\\u0430\\u043a\\u043e\\u0439 \\u0432\\u044b\\u0431\\u0440\\u0430\\u0442\\u044c \\u043d\\u0435 \\u044f\\u0441\\u043d\\u043e, \\u0434\\u043e\\u043f\\u043e\\u043b\\u043d\\u0438\\u0442\\u0435\\u043b\\u044c\\u043d\\u043e \\u043d\\u0443\\u0436\\u043d\\u043e \\u0443\\u0441\\u0442\\u0430\\u043d\\u043e\\u0432\\u0438\\u0442\\u044c \\u0440\\u0438\\u0434\\u0435\\u0440 \\u0434\\u043b\\u044f \\u0447\\u0442\\u0435\\u043d\\u0438\\u044f \\u0442\\u043e\\u043a\\u0435\\u043d\\u0430-\\u0444\\u043b\\u0435\\u0448\\u043a\\u0438, \\u0443\\u0441\\u0442\\u0430\\u043d\\u043e\\u0432\\u0438\\u0442\\u044c \\u0441\\u0442\\u043e \\u043f\\u044f\\u0442\\u044c\\u0434\\u0435\\u0441\\u044f\\u0442 \\u0441\\u0435\\u0440\\u0442\\u0438\\u0444\\u0438\\u043a\\u0430\\u0442\\u043e\\u0432, \\u043f\\u043b\\u0430\\u0433\\u0438\\u043d\\u043e\\u0432 \\u0434\\u043b\\u044f \\u0431\\u0440\\u0430\\u0443\\u0437\\u0435\\u0440\\u043e\\u0432 \\u0438 \\u0442.\\u0434 \\u0438 \\u0442.\\u043f. \\u0412 \\u0438\\u0442\\u043e\\u0433\\u0435 \\u044f \\u0435\\u0435 \\u043d\\u0430\\u0441\\u0442\\u0440\\u043e\\u0438\\u043b \\u0434\\u043e \\u0441\\u043e\\u0441\\u0442\\u043e\\u044f\\u043d\\u0438\\u044f \\u043a\\u043e\\u0433\\u0434\\u0430 \\u0441\\u043c\\u043e\\u0433 \\u0443\\u0441\\u0442\\u0430\\u043d\\u043e\\u0432\\u0438\\u0442\\u044c \\u0441\\u0435\\u0440\\u0442\\u0438\\u0444\\u0438\\u043a\\u0430\\u0442, \\u043e\\u043d \\u0447\\u0438\\u0442\\u0430\\u043b\\u0441\\u044f \\u0438 \\u0440\\u0430\\u0441\\u043f\\u043e\\u0437\\u043d\\u0430\\u0432\\u0430\\u043b\\u0441\\u044f \\u0442\\u0435\\u0441\\u0442\\u043e\\u0432\\u044b\\u043c\\u0438 \\u0441\\u0442\\u0440\\u0430\\u043d\\u0438\\u0446\\u0430\\u043c\\u0438 \\u0438 \\u0432\\u0440\\u043e\\u0434\\u0435 \\u043a\\u0430\\u043a \\u0432\\u0441\\u0435 \\u0431\\u044b\\u043b\\u043e \\u0433\\u043e\\u0442\\u043e\\u0432\\u043e \\u043a \\u0440\\u0430\\u0431\\u043e\\u0442\\u0435. \\u041d\\u043e \\u043e\\u043a\\u0430\\u0437\\u0430\\u043b\\u043e\\u0441\\u044c \\u043d\\u0435\\u0442. \\r\\n\\r\\n\\u0412\\u0438\\u0442\\u0430\\u043b\\u0438\\u0439 \\u043f\\u043e\\u043c\\u043e\\u0433 \\u043f\\u0440\\u043e\\u0439\\u0442\\u0438 \\u043f\\u043e\\u0441\\u043b\\u0435\\u0434\\u043d\\u0438\\u0439 \\u0448\\u0430\\u0433. \\u0421\\u043f\\u0430\\u0441\\u0438\\u0431\\u043e \\u0435\\u043c\\u0443 \\u043e\\u0433\\u0440\\u043e\\u043c\\u043d\\u043e\\u0435! \\u042f \\u0431\\u044b\\u043b \\u043e\\u0447\\u0435\\u043d\\u044c \\u043f\\u0440\\u0438\\u044f\\u0442\\u043d\\u043e \\u0443\\u0434\\u0438\\u0432\\u043b\\u0435\\u043d \\u0441\\u043a\\u043e\\u043b\\u044c\\u043a\\u043e \\u0441\\u043b\\u0443\\u0436\\u0431\\u0430 \\u043f\\u043e\\u0434\\u0434\\u0435\\u0440\\u0436\\u043a\\u0438 \\u0433\\u043e\\u0442\\u043e\\u0432\\u0430 \\u043d\\u0430 \\u043c\\u0435\\u043d\\u044f \\u0442\\u0440\\u0430\\u0442\\u0438\\u0442\\u044c \\u0432\\u0440\\u0435\\u043c\\u0435\\u043d\\u0438 \\u0447\\u0442\\u043e\\u0431\\u044b \\u0440\\u0435\\u0448\\u0438\\u0442\\u044c \\u043c\\u043e\\u044e \\u043f\\u0440\\u043e\\u0431\\u043b\\u0435\\u043c\\u0443 \\u0438 \\u043f\\u0440\\u043e\\u0432\\u0435\\u0441\\u0442\\u0438 \\u043f\\u043e \\u0442\\u0435\\u0445\\u043d\\u043e\\u043b\\u043e\\u0433\\u0438\\u0447\\u0435\\u0441\\u043a\\u043e\\u043c\\u0443 \\u043b\\u0430\\u0431\\u0438\\u0440\\u0438\\u043d\\u0442\\u0443. \\u0422\\u0430\\u043a \\u0436\\u0435 \\u043e\\u0442\\u043c\\u0435\\u0447\\u0443 \\u0447\\u0442\\u043e \\u0443 \\u0422\\u0438\\u043d\\u044c\\u043a\\u043e\\u0432\\u0430 \\u0435\\u0441\\u0442\\u044c \\u0441\\u0435\\u0440\\u0432\\u0438\\u0441 \\u043f\\u043e \\u043d\\u0430\\u0441\\u0442\\u0440\\u043e\\u0439\\u043a\\u0435 \\u041a\\u042d\\u041f, \\u043a\\u043e\\u0442\\u043e\\u0440\\u044b\\u0439 \\u043c\\u043d\\u043e\\u0433\\u043e\\u0435, \\u0435\\u0441\\u043b\\u0438 \\u043d\\u0435 \\u0432\\u0441\\u0435 \\u0443\\u0441\\u0442\\u0430\\u043d\\u043e\\u0432\\u0438\\u0442 \\u0438 \\u0441\\u0434\\u0435\\u043b\\u0430\\u0435\\u0442 \\u0437\\u0430 \\u0432\\u0430\\u0441 (\\u0447\\u0438\\u0442\\u0430\\u0442\\u044c \\u0437\\u0434\\u0435\\u0441\\u044c https://www.tinkoff.ru/business/help/solutions/signature/use/customize/?card=q1) - \\u043e\\u0447\\u0435\\u043d\\u044c \\u043a\\u0440\\u0443\\u0442\\u043e. \\u0412 \\u0442\\u043e\\u043c \\u0447\\u0438\\u0441\\u043b\\u0435 \\u0431\\u043b\\u0430\\u0433\\u043e\\u0434\\u0430\\u0440\\u044f \\u0435\\u043c\\u0443 \\u0443\\u0434\\u0430\\u043b\\u043e\\u0441\\u044c \\u0432\\u0441\\u0435 \\u0441\\u0434\\u0435\\u043b\\u0430\\u0442\\u044c \\u0431\\u044b\\u0441\\u0442\\u0440\\u043e. \\u041c\\u043e\\u043b\\u043e\\u0434\\u0446\\u044b!!!\",\n          \"\\u0425\\u043e\\u0447\\u0443 \\u0432\\u044b\\u0440\\u0430\\u0437\\u0438\\u0442\\u044c \\u0431\\u043b\\u0430\\u0433\\u043e\\u0434\\u0430\\u0440\\u043d\\u043e\\u0441\\u0442\\u044c \\u0441\\u043e\\u0442\\u0440\\u0443\\u0434\\u043d\\u0438\\u043a\\u0443 \\u043a\\u043e\\u043d\\u0442\\u0430\\u043a\\u0442\\u043d\\u043e\\u0433\\u043e \\u0446\\u0435\\u043d\\u0442\\u0440\\u0430 \\u0422\\u0438\\u043d\\u044c\\u043a\\u043e\\u0444\\u0444 \\u0411\\u0438\\u0437\\u043d\\u0435\\u0441 \\u0410\\u043b\\u0438\\u043d\\u0435- \\u0432\\u043d\\u0443\\u0442\\u0440\\u0435\\u043d\\u043d\\u0438\\u0439 \\u043d\\u043e\\u043c\\u0435\\u0440 68***41- \\u0437\\u0430 \\u043f\\u0440\\u043e\\u0444\\u0435\\u0441\\u0441\\u0438\\u043e\\u043d\\u0430\\u043b\\u0438\\u0437\\u043c, \\u0434\\u043e\\u0431\\u0440\\u043e\\u0436\\u0435\\u043b\\u0430\\u0442\\u0435\\u043b\\u044c\\u043d\\u043e\\u0441\\u0442\\u044c \\u0432 \\u0440\\u0435\\u0448\\u0435\\u043d\\u0438\\u0438 \\u0432\\u043e\\u043f\\u0440\\u043e\\u0441\\u043e\\u0432, \\u043e\\u0442\\u0437\\u044b\\u0432\\u0447\\u0438\\u0432\\u043e\\u0441\\u0442\\u044c, \\u0432\\u043d\\u0438\\u043c\\u0430\\u0442\\u0435\\u043b\\u044c\\u043d\\u043e\\u0441\\u0442\\u044c \\u043a \\u0434\\u0435\\u0442\\u0430\\u043b\\u044f\\u043c. \\u041c\\u043d\\u0435 \\u043d\\u0430\\u0434\\u043e \\u0431\\u044b\\u043b\\u043e \\u0441\\u0430\\u043c\\u043e\\u0441\\u0442\\u043e\\u044f\\u0442\\u0435\\u043b\\u044c\\u043d\\u043e \\u0440\\u0430\\u0437\\u043e\\u0431\\u0440\\u0430\\u0442\\u044c\\u0441\\u044f \\u0441 \\u043d\\u0430\\u043b\\u043e\\u0433\\u0430\\u043c\\u0438 \\u0438 \\u043e\\u0442\\u0447\\u0435\\u0442\\u043d\\u043e\\u0441\\u0442\\u044c\\u044e \\u043f\\u043e \\u0418\\u041f \\u0441 6%-\\u043d\\u043e\\u0439 \\u0441\\u0438\\u0441\\u0442\\u0435\\u043c\\u043e\\u0439 \\u043d\\u0430\\u043b\\u043e\\u0433\\u043e\\u043e\\u0431\\u043b\\u043e\\u0436\\u0435\\u043d\\u0438\\u044f. \\r\\n\\r\\n\\u0415\\u0435 \\u0441\\u0432\\u043e\\u0435\\u0432\\u0440\\u0435\\u043c\\u0435\\u043d\\u043d\\u0430\\u044f \\u0438 \\u043d\\u0435\\u043e\\u0434\\u043d\\u043e\\u043a\\u0440\\u0430\\u0442\\u043d\\u0430\\u044f \\u043f\\u043e\\u043c\\u043e\\u0449\\u044c \\u0438 \\u0443\\u0447\\u0430\\u0441\\u0442\\u0438\\u0435 \\u043f\\u043e\\u0437\\u0432\\u043e\\u043b\\u0438\\u043b\\u0438 \\u043f\\u0440\\u0438\\u0432\\u0435\\u0441\\u0442\\u0438 \\u043e\\u0442\\u0447\\u0435\\u0442\\u043d\\u043e\\u0441\\u0442\\u044c \\u0438 \\u043e\\u043f\\u043b\\u0430\\u0442\\u0443 \\u043d\\u0430\\u043b\\u043e\\u0433\\u043e\\u0432 \\u0432 \\u043f\\u043e\\u0440\\u044f\\u0434\\u043e\\u043a. \\u0425\\u043e\\u0447\\u0435\\u0442\\u0441\\u044f \\u0435\\u0449\\u0435 \\u043e\\u0442\\u043c\\u0435\\u0442\\u0438\\u0442\\u044c \\u0443\\u0434\\u043e\\u0431\\u043d\\u044b\\u0439 \\u0438\\u043d\\u0442\\u0443\\u0438\\u0442\\u0438\\u0432\\u043d\\u044b\\u0439 \\u0438\\u043d\\u0442\\u0435\\u0440\\u0444\\u0435\\u0439\\u0441 \\u0422\\u0438\\u043d\\u044c\\u043a\\u043e\\u0444\\u0444 \\u0411\\u0438\\u0437\\u043d\\u0435\\u0441. \\u0412\\u0441\\u0435\\u043c \\u0441\\u0432\\u043e\\u0438\\u043c \\u0437\\u043d\\u0430\\u043a\\u043e\\u043c\\u044b\\u043c \\u0418\\u041f \\u0431\\u0443\\u0434\\u0443 \\u0441 \\u0443\\u0434\\u043e\\u0432\\u043e\\u043b\\u044c\\u0441\\u0442\\u0432\\u0438\\u0435\\u043c \\u0440\\u0435\\u043a\\u043e\\u043c\\u0435\\u043d\\u0434\\u043e\\u0432\\u0430\\u0442\\u044c \\u0432\\u0435\\u0434\\u0435\\u043d\\u0438\\u0435 \\u0431\\u0443\\u0445\\u0433\\u0430\\u043b\\u0442\\u0435\\u0440\\u0438\\u0438 \\u0438\\u043c\\u0435\\u043d\\u043d\\u043e \\u043d\\u0430 \\u0435\\u0433\\u043e \\u043f\\u043b\\u043e\\u0449\\u0430\\u0434\\u043a\\u0435.\"\n        ],\n        \"semantic_type\": \"\",\n        \"description\": \"\"\n      }\n    },\n    {\n      \"column\": \"preprocessed_message\",\n      \"properties\": {\n        \"dtype\": \"string\",\n        \"num_unique_values\": 4024,\n        \"samples\": [\n          \"\\u0441\\u0435\\u0433\\u043e\\u0434\\u043d\\u044f \\u043c\\u0430\\u0440\\u0442 \\u0432\\u0441\\u0442\\u0440\\u0435\\u0442\\u0438\\u0442\\u044c\\u0441\\u044f \\u043f\\u0440\\u0435\\u0434\\u0441\\u0442\\u0430\\u0432\\u0438\\u0442\\u0435\\u043b\\u044c \\u0431\\u0430\\u043d\\u043a \\u0430\\u043d\\u0434\\u0440\\u0435\\u0439 \\u043f\\u043e\\u043b\\u0443\\u0447\\u0438\\u0442\\u044c \\u0434\\u0435\\u0431\\u0435\\u0442\\u043e\\u0432\\u044b\\u0439 \\u043a\\u0430\\u0440\\u0442\\u0430 \\u0438\\u0442\\u043e\\u0433 \\u043f\\u043e\\u043b\\u0443\\u0447\\u0438\\u0442\\u044c \\u0435\\u0449\\u0451 \\u043a\\u0440\\u0435\\u0434\\u0438\\u0442\\u043d\\u044b\\u0439 \\u0442\\u0430\\u043a\\u0436\\u0435 \\u0441\\u0438\\u043c\\u043a\\u0430\\u0440\\u0442\\u043e\\u0447\\u043a\\u0430 \\u043a\\u0441\\u0442\\u0430\\u0442\\u0438 \\u0441\\u0432\\u044f\\u0437\\u044c \\u043e\\u0442\\u043b\\u0438\\u0447\\u043d\\u043e \\u043b\\u043e\\u0432\\u0438\\u0442\\u044c \\u0432\\u0441\\u0451 \\u0441\\u043e\\u0442\\u0440\\u0443\\u0434\\u043d\\u0438\\u043a \\u043f\\u0440\\u043e\\u0432\\u0435\\u0440\\u0438\\u0442\\u044c \\u043d\\u0430\\u0441\\u0442\\u0440\\u043e\\u0438\\u0442\\u044c \\u043e\\u0447\\u0435\\u043d\\u044c \\u0432\\u0435\\u0436\\u043b\\u0438\\u0432\\u044b\\u0439 \\u0447\\u0435\\u043b\\u043e\\u0432\\u0435\\u043a \\u043a\\u043e\\u043c\\u043f\\u0435\\u0442\\u0435\\u043d\\u0442\\u043d\\u044b\\u0439 \\u043f\\u043e\\u043d\\u0438\\u043c\\u0430\\u043d\\u0438\\u0435 \\u043e\\u0442\\u043d\\u0435\\u0441\\u0442\\u0438\\u0441\\u044c \\u0442\\u043e\\u0442 \\u043f\\u0435\\u0440\\u0435\\u043d\\u043e\\u0441\\u0438\\u0442\\u044c \\u0432\\u0441\\u0442\\u0440\\u0435\\u0447\\u0430\",\n          \"\\u0445\\u043e\\u0442\\u0435\\u0442\\u044c \\u0432\\u044b\\u0440\\u0430\\u0437\\u0438\\u0442\\u044c \\u043e\\u0433\\u0440\\u043e\\u043c\\u043d\\u044b\\u0439 \\u0431\\u043b\\u0430\\u0433\\u043e\\u0434\\u0430\\u0440\\u043d\\u043e\\u0441\\u0442\\u044c \\u0441\\u043e\\u0442\\u0440\\u0443\\u0434\\u043d\\u0438\\u043a \\u0431\\u0430\\u043d\\u043a \\u043a\\u043e\\u0442\\u043e\\u0440\\u044b\\u0439 \\u0432\\u0440\\u0435\\u043c\\u044f \\u043e\\u043d\\u043b\\u0430\\u0439\\u043d \\u043e\\u0431\\u0440\\u0430\\u0449\\u0435\\u043d\\u0438\\u0435 \\u0447\\u0430\\u0442 \\u043f\\u0440\\u0438\\u043b\\u043e\\u0436\\u0435\\u043d\\u0438\\u0435 \\u043e\\u043f\\u0435\\u0440\\u0430\\u0442\\u0438\\u0432\\u043d\\u043e \\u0440\\u0435\\u0448\\u0438\\u0442\\u044c \\u0432\\u043e\\u043f\\u0440\\u043e\\u0441 \\u043e\\u0447\\u0435\\u043d\\u044c \\u043f\\u0440\\u0438\\u044f\\u0442\\u043d\\u043e \\u0431\\u0430\\u043d\\u043a \\u0446\\u0435\\u043d\\u0438\\u0442\\u044c \\u043a\\u0430\\u0436\\u0434\\u044b\\u0439 \\u0441\\u0432\\u043e\\u0439 \\u043a\\u043b\\u0438\\u0435\\u043d\\u0442 \\u043f\\u0440\\u043e\\u044f\\u0432\\u043b\\u044f\\u0442\\u044c \\u043b\\u043e\\u044f\\u043b\\u044c\\u043d\\u043e\\u0441\\u0442\\u044c \\u0432\\u0435\\u0441\\u044c \\u0432\\u043e\\u043f\\u0440\\u043e\\u0441 \\u0442\\u0430\\u043a\\u043e\\u0439 \\u0431\\u0430\\u043d\\u043a \\u0445\\u043e\\u0442\\u0435\\u0442\\u044c\\u0441\\u044f \\u043f\\u0440\\u043e\\u0434\\u043e\\u043b\\u0436\\u0430\\u0442\\u044c \\u0440\\u0430\\u0431\\u043e\\u0442\\u0430\\u0442\\u044c \\u0434\\u0430\\u043b\\u0451\\u043a\\u0438\\u0439 \\u044d\\u0442\\u043e \\u0435\\u0449\\u0451 \\u0443\\u0434\\u043e\\u0431\\u043d\\u043e\",\n          \"\\u043e\\u0431\\u0440\\u0430\\u0449\\u0430\\u0442\\u044c\\u0441\\u044f \\u0447\\u0430\\u0442 \\u0431\\u044b\\u0441\\u0442\\u0440\\u043e \\u0447\\u0451\\u0442\\u043a\\u043e \\u043e\\u0442\\u0432\\u0435\\u0447\\u0430\\u0442\\u044c \\u043f\\u043e\\u0432\\u0435\\u0437\\u0442\\u0438 \\u043e\\u0431\\u0440\\u0430\\u0442\\u0438\\u0442\\u044c\\u0441\\u044f \\u0447\\u0430\\u0442 \\u043f\\u043e\\u0434\\u0434\\u0435\\u0440\\u0436\\u043a\\u0430 \\u043a\\u0435\\u0448\\u0431\\u044d\\u043a \\u0441\\u043e\\u0442\\u0440\\u0443\\u0434\\u043d\\u0438\\u043a \\u0430\\u043b\\u0438\\u043d\\u0430 \\u043e\\u043f\\u0435\\u0440\\u0430\\u0442\\u0438\\u0432\\u043d\\u043e \\u043e\\u0442\\u0432\\u0435\\u0442\\u0438\\u0442\\u044c \\u0434\\u0430\\u0442\\u044c \\u0441\\u0441\\u044b\\u043b\\u043a\\u0430 \\u043d\\u0443\\u0436\\u043d\\u044b\\u0439 \\u0440\\u0435\\u0433\\u043b\\u0430\\u043c\\u0435\\u043d\\u0442\\u0438\\u0440\\u043e\\u0432\\u0430\\u0442\\u044c \\u0434\\u043e\\u043a\\u0443\\u043c\\u0435\\u043d\\u0442 \\u0431\\u0430\\u043d\\u043a \\u043a\\u0430\\u0436\\u0434\\u044b\\u0439 \\u043f\\u043e\\u0434\\u043a\\u043e\\u0432\\u0430\\u0442\\u044c \\u0440\\u0435\\u0448\\u0438\\u0442\\u044c \\u0432\\u043e\\u043f\\u0440\\u043e\\u0441 \\u043c\\u043e\\u043b\\u043e\\u0434\\u0435\\u0446 \\u0431\\u043e\\u043b\\u044c\\u0448\\u043e\\u0439 \\u0442\\u0430\\u043a\\u043e\\u0439 \\u0441\\u043e\\u0442\\u0440\\u0443\\u0434\\u043d\\u0438\\u043a\"\n        ],\n        \"semantic_type\": \"\",\n        \"description\": \"\"\n      }\n    },\n    {\n      \"column\": \"preprocessed_header\",\n      \"properties\": {\n        \"dtype\": \"string\",\n        \"num_unique_values\": 3001,\n        \"samples\": [\n          \"\\u0440\\u0430\\u0437\\u0431\\u043e\\u0440 \\u0432\\u044b\\u0447\\u0435\\u0442 \\u0441\\u0440\\u0435\\u0434\\u0441\\u0442\\u0432\\u043e \\u043a\\u0440\\u0435\\u0434\\u0438\\u0442\\u043d\\u044b\\u0439 \\u043a\\u0430\\u0440\\u0442\\u0430\",\n          \"\\u0442\\u0435\\u043a\\u0443\\u0449\\u0438\\u0439 \\u0441\\u0447\\u0451\\u0442 \\u0434\\u0440\\u0443\\u0433\\u043e\\u0439 \\u0447\\u0435\\u043b\\u043e\\u0432\\u0435\\u043a\",\n          \"\\u0431\\u043b\\u0430\\u0433\\u043e\\u0434\\u0430\\u0440\\u043d\\u043e\\u0441\\u0442\\u044c \\u0441\\u043e\\u0442\\u0440\\u0443\\u0434\\u043d\\u0438\\u043a \\u0430\\u043d\\u043d\\u0435\"\n        ],\n        \"semantic_type\": \"\",\n        \"description\": \"\"\n      }\n    }\n  ]\n}"
            }
          },
          "metadata": {},
          "execution_count": 15
        }
      ]
    },
    {
      "cell_type": "code",
      "source": [
        "df[\"preprocessed_message\"][1337]"
      ],
      "metadata": {
        "colab": {
          "base_uri": "https://localhost:8080/",
          "height": 53
        },
        "id": "sjUSqmk4l6ki",
        "outputId": "66e8f746-3356-4028-9774-615b0f8ad4bb"
      },
      "execution_count": 16,
      "outputs": [
        {
          "output_type": "execute_result",
          "data": {
            "text/plain": [
              "'обратиться чат мобильный приложение вопрос оспаривание операция списание деньга карта вопрос решиться очень быстро деньга вернуть заниматься мария большой спасибо'"
            ],
            "application/vnd.google.colaboratory.intrinsic+json": {
              "type": "string"
            }
          },
          "metadata": {},
          "execution_count": 16
        }
      ]
    },
    {
      "cell_type": "code",
      "source": [
        "reviews = df[\"preprocessed_message\"].values\n",
        "\n",
        "reviews"
      ],
      "metadata": {
        "colab": {
          "base_uri": "https://localhost:8080/"
        },
        "id": "UToQVgifRY7O",
        "outputId": "b6e02e7d-ccbf-421b-d092-417d27b51341"
      },
      "execution_count": 17,
      "outputs": [
        {
          "output_type": "execute_result",
          "data": {
            "text/plain": [
              "array(['хотеть выразить огромный благодарность сотрудник тинькофф банк мва элвин чёткий быстрый решение поставить задача приятный общение считать такой работник гордиться брать пример работа культура общение клиент ваш отделение большой такой сотрудник хороший пример честность добропорядочность что надеяться другой реальный случай убедиться сказать большой спасибо это',\n",
              "       'добрый день',\n",
              "       'очень редко писать отзыв самый время самый хороший банк такой проблема решить оперативно быстро любой вопрос последний капля стать вернуть деньга мошеннический сайт думать увидеть деньга ребята огромный спасибо выбирать советовать весь правда очень крутой',\n",
              "       ...,\n",
              "       'мой банковский карта списать блатёж услуга сторонний организация мой согласить точнее год оплачивать услуга премиум телеграмма истечение срок действие оплатить услуга карта списаться стоимость год согласие давать автоплатёж подключать мой обращение менее неделя проблема банк решить деньга возвратить',\n",
              "       'добрый день благодарить вопрос кредитный карта благодарить компетенция клиенториентированность сотрудник банк именно оператор горячий линия анна анастасия особенно тимофей решить оперативно вопрос начисление кэшбек новый кредитный карта всё заработать прекрасно очень приятно',\n",
              "       'спасибо большой оперативный решение проблема'], dtype=object)"
            ]
          },
          "metadata": {},
          "execution_count": 17
        }
      ]
    },
    {
      "cell_type": "markdown",
      "source": [
        "векторизуем с помощью \"мешка слов\", min_df = 3\\, чтобы убрать аномальные токены"
      ],
      "metadata": {
        "id": "GDWyB7YjRy8E"
      }
    },
    {
      "cell_type": "code",
      "source": [
        "from sklearn.feature_extraction.text import CountVectorizer\n",
        "\n",
        "count_vectorizer = CountVectorizer(min_df = 3, ngram_range=(1,2))\n",
        "\n",
        "bow = count_vectorizer.fit_transform(reviews)\n",
        "bow.shape"
      ],
      "metadata": {
        "colab": {
          "base_uri": "https://localhost:8080/"
        },
        "id": "FgfkfrVPRitL",
        "outputId": "a8299e70-b905-4f48-d50c-620becb454c9"
      },
      "execution_count": 27,
      "outputs": [
        {
          "output_type": "execute_result",
          "data": {
            "text/plain": [
              "(4117, 11486)"
            ]
          },
          "metadata": {},
          "execution_count": 27
        }
      ]
    },
    {
      "cell_type": "code",
      "source": [
        "from sklearn.decomposition import LatentDirichletAllocation\n",
        "\n",
        "lda = LatentDirichletAllocation(n_components=10, learning_method=\"batch\", max_iter=25, random_state=0)\n",
        "\n",
        "topics = lda.fit_transform(bow)\n"
      ],
      "metadata": {
        "id": "ptt1QQYeYioN"
      },
      "execution_count": null,
      "outputs": []
    },
    {
      "cell_type": "code",
      "source": [
        "lda.components_.shape"
      ],
      "metadata": {
        "id": "wNLaMW_HZyC-",
        "outputId": "5ba6555c-0ceb-4a5f-c166-ca7eee2b50aa",
        "colab": {
          "base_uri": "https://localhost:8080/"
        }
      },
      "execution_count": 75,
      "outputs": [
        {
          "output_type": "execute_result",
          "data": {
            "text/plain": [
              "(10, 11486)"
            ]
          },
          "metadata": {},
          "execution_count": 75
        }
      ]
    },
    {
      "cell_type": "code",
      "source": [
        "sorting = np.argsort(lda.components_, axis=1)[:, ::-1]\n",
        "feature_names = np.array(count_vectorizer.get_feature_names_out())"
      ],
      "metadata": {
        "id": "mUpeGHJhZdDK"
      },
      "execution_count": 76,
      "outputs": []
    },
    {
      "cell_type": "code",
      "source": [
        "!pip install mglearn"
      ],
      "metadata": {
        "id": "Jz1Teynva_p2",
        "outputId": "4a312347-5bf4-466d-b220-1255e0a8ad90",
        "colab": {
          "base_uri": "https://localhost:8080/"
        }
      },
      "execution_count": 57,
      "outputs": [
        {
          "output_type": "stream",
          "name": "stdout",
          "text": [
            "Installing collected packages: mglearn\n",
            "Successfully installed mglearn-0.2.0\n"
          ]
        }
      ]
    },
    {
      "cell_type": "code",
      "source": [
        "mglearn.tools.print_topics(topics=range(10), feature_names=feature_names, sorting=sorting, topics_per_chunk=5, n_words=10)"
      ],
      "metadata": {
        "id": "I2uPzaikeOiJ",
        "outputId": "fd4b4e20-ae3d-4e20-925a-630a0e38def2",
        "colab": {
          "base_uri": "https://localhost:8080/"
        }
      },
      "execution_count": 78,
      "outputs": [
        {
          "output_type": "stream",
          "name": "stdout",
          "text": [
            "topic 0       topic 1       topic 2       topic 3       topic 4       \n",
            "--------      --------      --------      --------      --------      \n",
            "кэшбэк        банк          банк          деньга        оператор      \n",
            "покупка       счёт          вопрос        карта         поддержка     \n",
            "начислить     тинькофф      очень         вернуть       курс          \n",
            "категория     перевод       тинькофф      день          который       \n",
            "кэшбек        комиссия      решить        банк          это           \n",
            "повышенный    деньга        проблема      подписка      приложение    \n",
            "вопрос        банкомат      быстро        поддержка     бек           \n",
            "чат           день          поддержка     средство      кеш           \n",
            "начисление    средство      спасибо       тинькофф      рубль         \n",
            "кешбек        поддержка     хороший       списать       валюта        \n",
            "\n",
            "\n",
            "topic 5       topic 6       topic 7       topic 8       topic 9       \n",
            "--------      --------      --------      --------      --------      \n",
            "банк          вопрос        банк          банк          тинькофф      \n",
            "карта         очень         сотрудник     сотрудник     хотеть        \n",
            "это           помочь        мой           тинькофф      банк          \n",
            "тинькофф      быстро        счёт          благодарность всё           \n",
            "мой           банк          вопрос        хотеть        работа        \n",
            "год           менеджер      который       вопрос        свой          \n",
            "кредитный     спасибо       документ      спасибо       поделиться    \n",
            "день          который       линия         выразить      здравствуйте  \n",
            "который       работа        горячий       огромный      декларация    \n",
            "деньга        помощь        горячий линия работа        ип            \n",
            "\n",
            "\n"
          ]
        }
      ]
    },
    {
      "cell_type": "markdown",
      "source": [
        "векторизуем с помощью TF-IDF, min_df = 3\\, чтобы убрать аномальные токены"
      ],
      "metadata": {
        "id": "1vbRcCLBWh5K"
      }
    },
    {
      "cell_type": "code",
      "source": [
        "from sklearn.feature_extraction.text import TfidfVectorizer\n",
        "\n",
        "v = TfidfVectorizer(min_df = 2, ngram_range=(1,2)).fit(reviews)"
      ],
      "metadata": {
        "id": "k2_RbtUiQizQ"
      },
      "execution_count": 71,
      "outputs": []
    },
    {
      "cell_type": "code",
      "source": [
        "array_r = v.transform(reviews)"
      ],
      "metadata": {
        "id": "kcpoWcHdW90c"
      },
      "execution_count": 72,
      "outputs": []
    },
    {
      "cell_type": "code",
      "source": [
        "max_value = array_r.max(axis=0).toarray().ravel()\n",
        "sorted_by_tfidf = max_value.argsort()\n",
        "\n",
        "f_names = np.array(v.get_feature_names_out())"
      ],
      "metadata": {
        "id": "boYxuXTYXFnR"
      },
      "execution_count": 73,
      "outputs": []
    },
    {
      "cell_type": "code",
      "source": [
        "print('Признаки с наименьшими td-idf:\\n{}'.format(f_names[sorted_by_tfidf[:30]]))\n",
        "\n",
        "print('Признаки с наибольшими td-idf:\\n{}'.format(f_names[sorted_by_tfidf[-30:]]))\n",
        "\n"
      ],
      "metadata": {
        "id": "k7UHIfSPXlJJ",
        "outputId": "b10700a5-83da-4cbe-c99d-90ee17d61526",
        "colab": {
          "base_uri": "https://localhost:8080/"
        }
      },
      "execution_count": 74,
      "outputs": [
        {
          "output_type": "stream",
          "name": "stdout",
          "text": [
            "Признаки с наименьшими td-idf:\n",
            "['оферта должный' 'инициатива иной' 'должный признаваться' 'анкета банк'\n",
            " 'установить договор' 'ухудшить' 'акцептант который' 'документ выразить'\n",
            " 'акцептант правопорядок' 'акцептант такой' 'договор условие'\n",
            " 'отписка скрипт' 'договор оферент' 'договор норма' 'такой бремя'\n",
            " 'иной грубо' 'правопорядок допускать' 'реагирование самый'\n",
            " 'признаваться ничтожный' 'интерес адресат' 'ухудшить положение' 'ст гк'\n",
            " 'исключительно собственный' 'кодекс российский'\n",
            " 'обращение регистрировать' 'неудобный положение' 'давать глупый'\n",
            " 'грубо посягать' 'положение вынудить' 'положение гражданский']\n",
            "Признаки с наибольшими td-idf:\n",
            "['заблокировать карта' 'описание ситуация' 'клуб' 'читать'\n",
            " 'уважаемый тинькофф' 'обратиться поддержка' 'банк высота' 'опыт тинькофф'\n",
            " 'премиум клиент' 'обращение продукт' 'отличный карта' 'день добрый'\n",
            " 'заказывать' 'моментальный' 'душа' 'ноябрь' 'банк' 'здравствуйте'\n",
            " 'февраль' 'иван' 'добрый' 'dmitry' 'год' 'отзыв' 'претензия'\n",
            " 'приветствовать' 'оценка' 'благодарить' 'сотрудник' 'nan']\n"
          ]
        }
      ]
    }
  ]
}