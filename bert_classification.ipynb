{
  "nbformat": 4,
  "nbformat_minor": 0,
  "metadata": {
    "colab": {
      "provenance": [],
      "gpuType": "T4"
    },
    "kernelspec": {
      "name": "python3",
      "display_name": "Python 3"
    },
    "language_info": {
      "name": "python"
    },
    "accelerator": "GPU"
  },
  "cells": [
    {
      "cell_type": "markdown",
      "source": [
        "Импортируем необходимые либы"
      ],
      "metadata": {
        "id": "4Z9Iz_s3y31x"
      }
    },
    {
      "cell_type": "code",
      "execution_count": 1,
      "metadata": {
        "id": "dVwd8YSWy1sE"
      },
      "outputs": [],
      "source": [
        "import re\n",
        "import numpy as np\n",
        "import pandas as pd\n",
        "from tqdm import tqdm\n",
        "\n",
        "from sklearn.model_selection import train_test_split\n",
        "from sklearn.metrics import classification_report, f1_score\n",
        "\n",
        "import torch\n",
        "import transformers\n",
        "import torch.nn as nn\n",
        "from transformers import AutoModel, BertTokenizer, BertForSequenceClassification\n",
        "from torch.utils.data import TensorDataset, DataLoader, RandomSampler, SequentialSampler"
      ]
    },
    {
      "cell_type": "code",
      "source": [
        "tqdm.pandas()\n",
        "\n",
        "device = torch.device('cuda')"
      ],
      "metadata": {
        "id": "Pa9MggUDzBfT"
      },
      "execution_count": 2,
      "outputs": []
    },
    {
      "cell_type": "markdown",
      "source": [
        "Скачиваем предобученные BERT трансформеры DeepPavlov"
      ],
      "metadata": {
        "id": "j-I_qYzFznI5"
      }
    },
    {
      "cell_type": "code",
      "source": [
        "bert = AutoModel.from_pretrained('DeepPavlov/rubert-base-cased-sentence')\n",
        "\n",
        "tokenizer = BertTokenizer.from_pretrained('DeepPavlov/rubert-base-cased-sentence')"
      ],
      "metadata": {
        "id": "9sJ2Q9A8zIBN"
      },
      "execution_count": null,
      "outputs": []
    },
    {
      "cell_type": "markdown",
      "source": [
        "Загружаем датасет, исходя из поставленной оценки формируем датасет с двумя классами (1 - positive_reviews, 0 - negative_reviews), затем DownSample'им чтобы сбалансировать классы."
      ],
      "metadata": {
        "id": "F6DkEHA8zu14"
      }
    },
    {
      "cell_type": "code",
      "source": [
        "df = pd.read_csv(\"reviews.csv\")\n",
        "\n",
        "df.rating.value_counts()"
      ],
      "metadata": {
        "colab": {
          "base_uri": "https://localhost:8080/"
        },
        "id": "jzs2IX4pzJL_",
        "outputId": "88a295e9-1437-4415-9be6-7b5f06be3af2"
      },
      "execution_count": 4,
      "outputs": [
        {
          "output_type": "execute_result",
          "data": {
            "text/plain": [
              "5    3433\n",
              "1     502\n",
              "4      87\n",
              "2      69\n",
              "3      26\n",
              "Name: rating, dtype: int64"
            ]
          },
          "metadata": {},
          "execution_count": 4
        }
      ]
    },
    {
      "cell_type": "code",
      "source": [
        "df = df[df.rating != 4]\n",
        "\n",
        "df.loc[df[\"rating\"] < 4, \"rating\"] = 0\n",
        "\n",
        "df.loc[df[\"rating\"] > 4, \"rating\"] = 1\n",
        "\n",
        "df.rating.value_counts()"
      ],
      "metadata": {
        "colab": {
          "base_uri": "https://localhost:8080/"
        },
        "id": "ab8Mb3PA2EBq",
        "outputId": "ee624dc3-b29f-40d2-ee70-101165f644b4"
      },
      "execution_count": 5,
      "outputs": [
        {
          "output_type": "execute_result",
          "data": {
            "text/plain": [
              "1    3433\n",
              "0     597\n",
              "Name: rating, dtype: int64"
            ]
          },
          "metadata": {},
          "execution_count": 5
        }
      ]
    },
    {
      "cell_type": "code",
      "source": [
        "positive_reviews = df[df[\"rating\"] == 1]\n",
        "negative_reviews  = df[df[\"rating\"] == 0]\n",
        "print(positive_reviews.shape)\n",
        "print(negative_reviews.shape)"
      ],
      "metadata": {
        "colab": {
          "base_uri": "https://localhost:8080/"
        },
        "id": "W2ooaGfi264v",
        "outputId": "e53d4293-f054-4be7-b15e-f740d0f1b1c3"
      },
      "execution_count": 6,
      "outputs": [
        {
          "output_type": "stream",
          "name": "stdout",
          "text": [
            "(3433, 5)\n",
            "(597, 5)\n"
          ]
        }
      ]
    },
    {
      "cell_type": "code",
      "source": [
        "from sklearn.utils import resample\n",
        "positive_downsample = resample(positive_reviews,\n",
        "             replace=True,\n",
        "             n_samples=len(negative_reviews),\n",
        "             random_state=42)\n",
        "\n",
        "print(positive_downsample.shape)"
      ],
      "metadata": {
        "colab": {
          "base_uri": "https://localhost:8080/"
        },
        "id": "P9Mnp1rZ3F4D",
        "outputId": "bd1aacc0-fef7-45e4-c657-aab8e2005352"
      },
      "execution_count": 7,
      "outputs": [
        {
          "output_type": "stream",
          "name": "stdout",
          "text": [
            "(597, 5)\n"
          ]
        }
      ]
    },
    {
      "cell_type": "code",
      "source": [
        "reviews_downsampled = pd.concat([positive_downsample, negative_reviews])\n",
        "\n",
        "print(reviews_downsampled[\"rating\"].value_counts())\n",
        "\n",
        "reviews_downsampled.groupby('rating').size().plot(kind='pie',\n",
        "                                       y = \"v1\",\n",
        "                                       label = \"Type\",\n",
        "                                       autopct='%1.1f%%')"
      ],
      "metadata": {
        "colab": {
          "base_uri": "https://localhost:8080/",
          "height": 475
        },
        "id": "LEaUUwvG3Iaf",
        "outputId": "f59bf175-5522-4afd-be33-1ab43eb2fa61"
      },
      "execution_count": 8,
      "outputs": [
        {
          "output_type": "stream",
          "name": "stdout",
          "text": [
            "1    597\n",
            "0    597\n",
            "Name: rating, dtype: int64\n"
          ]
        },
        {
          "output_type": "execute_result",
          "data": {
            "text/plain": [
              "<Axes: ylabel='Type'>"
            ]
          },
          "metadata": {},
          "execution_count": 8
        },
        {
          "output_type": "display_data",
          "data": {
            "text/plain": [
              "<Figure size 640x480 with 1 Axes>"
            ],
            "image/png": "[encoded data removed]"
          },
          "metadata": {}
        }
      ]
    },
    {
      "cell_type": "code",
      "source": [
        "from sklearn.model_selection import train_test_split\n",
        "\n",
        "reviews_train, reviews_test1 = train_test_split(reviews_downsampled, test_size=0.4, random_state=42)\n",
        "reviews_test, reviews_val = train_test_split(reviews_test1, test_size=0.5, random_state=42)\n",
        "\n",
        "print(reviews_train.shape)\n",
        "print(reviews_val.shape)\n",
        "print(reviews_test.shape)\n"
      ],
      "metadata": {
        "colab": {
          "base_uri": "https://localhost:8080/"
        },
        "id": "3TKjRnAy1amr",
        "outputId": "bc5dcfe8-29e0-49c4-d1c8-b5d961c3afa3"
      },
      "execution_count": 9,
      "outputs": [
        {
          "output_type": "stream",
          "name": "stdout",
          "text": [
            "(716, 5)\n",
            "(239, 5)\n",
            "(239, 5)\n"
          ]
        }
      ]
    },
    {
      "cell_type": "code",
      "source": [
        "reviews_train.head(20)"
      ],
      "metadata": {
        "id": "oF3XiH67-gCM"
      },
      "execution_count": null,
      "outputs": []
    },
    {
      "cell_type": "markdown",
      "source": [
        "Разобьем выборки на отзыв и таргет"
      ],
      "metadata": {
        "id": "9aFFTcqt4k5W"
      }
    },
    {
      "cell_type": "code",
      "source": [
        "train_reviews = reviews_train['message'].astype('str')\n",
        "train_labels = reviews_train['rating']\n",
        "val_reviews = reviews_val['message'].astype('str')\n",
        "val_labels = reviews_val['rating']\n",
        "test_reviews = reviews_test['message'].astype('str')\n",
        "test_labels = reviews_test['rating']"
      ],
      "metadata": {
        "id": "OXfTFSwj4d1r"
      },
      "execution_count": 11,
      "outputs": []
    },
    {
      "cell_type": "markdown",
      "source": [
        "Подберем оптимальную длину последовательности токенов, чтобы избежать  разреженных векторов"
      ],
      "metadata": {
        "id": "4lm7lS5W-rxt"
      }
    },
    {
      "cell_type": "code",
      "source": [
        "seq_len = [len(str(i).split()) for i in train_reviews]\n",
        "pd.Series(seq_len).hist(bins = 50)\n",
        "\n",
        "# около 100 токенов достаточно"
      ],
      "metadata": {
        "colab": {
          "base_uri": "https://localhost:8080/",
          "height": 447
        },
        "id": "ZlnUCoN6-xfN",
        "outputId": "fe26cd27-a0b1-4933-d37f-f01ed91422e1"
      },
      "execution_count": 12,
      "outputs": [
        {
          "output_type": "execute_result",
          "data": {
            "text/plain": [
              "<Axes: >"
            ]
          },
          "metadata": {},
          "execution_count": 12
        },
        {
          "output_type": "display_data",
          "data": {
            "text/plain": [
              "<Figure size 640x480 with 1 Axes>"
            ],
            "image/png": "[encoded data removed]"
          },
          "metadata": {}
        }
      ]
    },
    {
      "cell_type": "markdown",
      "source": [
        "Теперь токенизируем отзывы и переведем в Tensor"
      ],
      "metadata": {
        "id": "G0naID43_TlU"
      }
    },
    {
      "cell_type": "code",
      "source": [
        "tokens_train = tokenizer.batch_encode_plus(\n",
        "    train_reviews.values,\n",
        "    max_length = 100,\n",
        "    padding = 'max_length',\n",
        "    truncation = True\n",
        ")\n",
        "tokens_val = tokenizer.batch_encode_plus(\n",
        "    val_reviews.values,\n",
        "    max_length = 100,\n",
        "    padding = 'max_length',\n",
        "    truncation = True\n",
        ")\n",
        "tokens_test = tokenizer.batch_encode_plus(\n",
        "    test_reviews.values,\n",
        "    max_length = 100,\n",
        "    padding = 'max_length',\n",
        "    truncation = True\n",
        ")"
      ],
      "metadata": {
        "id": "07Y8cBMH_fx0"
      },
      "execution_count": 13,
      "outputs": []
    },
    {
      "cell_type": "code",
      "source": [
        "train_seq = torch.tensor(tokens_train['input_ids'])\n",
        "train_mask = torch.tensor(tokens_train['attention_mask'])\n",
        "train_y = torch.tensor(train_labels.values)"
      ],
      "metadata": {
        "id": "q6ipZ2mZ_w3A"
      },
      "execution_count": 14,
      "outputs": []
    },
    {
      "cell_type": "code",
      "source": [
        "val_seq = torch.tensor(tokens_val['input_ids'])\n",
        "val_mask = torch.tensor(tokens_val['attention_mask'])\n",
        "val_y = torch.tensor(val_labels.values)"
      ],
      "metadata": {
        "id": "FI_6zAzz_41H"
      },
      "execution_count": 15,
      "outputs": []
    },
    {
      "cell_type": "code",
      "source": [
        "test_seq = torch.tensor(tokens_test['input_ids'])\n",
        "test_mask = torch.tensor(tokens_test['attention_mask'])\n",
        "test_y = torch.tensor(test_labels.values)"
      ],
      "metadata": {
        "id": "2-vZUba4__Ri"
      },
      "execution_count": 16,
      "outputs": []
    },
    {
      "cell_type": "markdown",
      "source": [
        "Создадим DataLoader с размером батчей BATCH_SIZE, благодаря которому будем обучать на порциях данных"
      ],
      "metadata": {
        "id": "22YlIdJzALIj"
      }
    },
    {
      "cell_type": "code",
      "source": [
        "BATCH_SIZE = 8"
      ],
      "metadata": {
        "id": "40pxxhvYAAtK"
      },
      "execution_count": 17,
      "outputs": []
    },
    {
      "cell_type": "code",
      "source": [
        "train_data = TensorDataset(train_seq, train_mask, train_y)\n",
        "train_sampler = RandomSampler(train_data)\n",
        "train_dataloader = DataLoader(train_data, sampler = train_sampler, batch_size = BATCH_SIZE)\n",
        "\n",
        "val_data =  TensorDataset(val_seq, val_mask, val_y)\n",
        "val_sampler = SequentialSampler(val_data)\n",
        "val_dataloader = DataLoader(val_data, sampler = val_sampler, batch_size = BATCH_SIZE)"
      ],
      "metadata": {
        "id": "UgVMyunXAGPg"
      },
      "execution_count": 18,
      "outputs": []
    },
    {
      "cell_type": "markdown",
      "source": [
        "Теперь реализуем саму архитектуру модели, сам BERT трогать не будем, просто к выходу допишем слои и обучим уже их на классификацию"
      ],
      "metadata": {
        "id": "BKFPWfj7AiCJ"
      }
    },
    {
      "cell_type": "code",
      "source": [
        "for param in bert.parameters():\n",
        "    param.requires_grad = False\n",
        "\n",
        "class BERT_tune(nn.Module):\n",
        "\n",
        "    def __init__(self, bert):\n",
        "        super(BERT_tune, self).__init__()\n",
        "        self.bert = bert\n",
        "        self.dropout = nn.Dropout(0.1)\n",
        "        self.relu = nn.ReLU()\n",
        "        self.fc1 = nn.Linear(768,512)\n",
        "        self.fc2 = nn.Linear(512,2)\n",
        "        self.softmax = nn.LogSoftmax(dim = 1)\n",
        "\n",
        "    def forward(self, sent_id, mask):\n",
        "        _, cls_hs = self.bert(sent_id, attention_mask = mask, return_dict = False)\n",
        "        x = self.fc1(cls_hs)\n",
        "        x = self.relu(x)\n",
        "        x = self.dropout(x)\n",
        "        x = self.fc2(x)\n",
        "        x = self.softmax(x)\n",
        "        return x"
      ],
      "metadata": {
        "id": "yo5TdnX1A1z6"
      },
      "execution_count": 19,
      "outputs": []
    },
    {
      "cell_type": "markdown",
      "source": [
        "Объявляем модель и загружаем в GPU"
      ],
      "metadata": {
        "id": "y5KqFO0QBc2f"
      }
    },
    {
      "cell_type": "code",
      "source": [
        "model = BERT_tune(bert)\n",
        "\n",
        "model = model.to(device)"
      ],
      "metadata": {
        "id": "VMHz0KoSBcYL"
      },
      "execution_count": 72,
      "outputs": []
    },
    {
      "cell_type": "markdown",
      "source": [
        "После некоторых сравнений, выберем наиболее релевантный оптимизатор и LOSS-функцию"
      ],
      "metadata": {
        "id": "TF8ZQPZeBC7t"
      }
    },
    {
      "cell_type": "code",
      "source": [
        "from transformers import AdamW\n",
        "\n",
        "optimizer = AdamW(model.parameters(),\n",
        "               lr= 1e-3)\n",
        "\n",
        "cross_entropy = nn.CrossEntropyLoss()"
      ],
      "metadata": {
        "colab": {
          "base_uri": "https://localhost:8080/"
        },
        "id": "93H0FX7zA9Mn",
        "outputId": "a6bcbfca-becb-4c56-8d91-d3b4a335906e"
      },
      "execution_count": 73,
      "outputs": [
        {
          "output_type": "stream",
          "name": "stderr",
          "text": [
            "/usr/local/lib/python3.10/dist-packages/transformers/optimization.py:429: FutureWarning: This implementation of AdamW is deprecated and will be removed in a future version. Use the PyTorch implementation torch.optim.AdamW instead, or set `no_deprecation_warning=True` to disable this warning\n",
            "  warnings.warn(\n"
          ]
        }
      ]
    },
    {
      "cell_type": "markdown",
      "source": [
        "Для начала обучим на 20 эпохах"
      ],
      "metadata": {
        "id": "Lfej3mroBp_2"
      }
    },
    {
      "cell_type": "code",
      "source": [
        "EPOCHS = 50"
      ],
      "metadata": {
        "id": "3-tWhKbMBpcr"
      },
      "execution_count": 74,
      "outputs": []
    },
    {
      "cell_type": "markdown",
      "source": [
        "Функция для обучения"
      ],
      "metadata": {
        "id": "XcHp0-gNCP6b"
      }
    },
    {
      "cell_type": "code",
      "source": [
        "def train():\n",
        "    model.train()\n",
        "    total_loss, total_accuracy = 0, 0\n",
        "    total_preds = []\n",
        "\n",
        "    for step, batch in tqdm(enumerate(train_dataloader), total = len(train_dataloader)):\n",
        "        batch = [r.to(device) for r in batch]\n",
        "        sent_id, mask, labels = batch\n",
        "        model.zero_grad()\n",
        "        preds = model(sent_id, mask)\n",
        "        loss = cross_entropy(preds, labels)\n",
        "        total_loss += loss.item()\n",
        "        loss.backward()\n",
        "        torch.nn.utils.clip_grad_norm_(model.parameters(), 1.0)\n",
        "        optimizer.step()\n",
        "        preds = preds.detach().cpu().numpy()\n",
        "        total_preds.append(preds)\n",
        "\n",
        "    avg_loss = total_loss / len(train_dataloader)\n",
        "    total_preds = np.concatenate(total_preds, axis = 0)\n",
        "\n",
        "    return avg_loss, total_preds"
      ],
      "metadata": {
        "id": "QDvDQWH9CSQL"
      },
      "execution_count": 76,
      "outputs": []
    },
    {
      "cell_type": "markdown",
      "source": [
        "Функция для валидации"
      ],
      "metadata": {
        "id": "vHzhw-2aCSYf"
      }
    },
    {
      "cell_type": "code",
      "source": [
        "def evaluate():\n",
        "    model.eval()\n",
        "    total_loss, total_accuracy = 0,0\n",
        "    total_preds = []\n",
        "\n",
        "    for step, batch in tqdm(enumerate(val_dataloader), total = len(val_dataloader)):\n",
        "        batch = [t.to(device) for t in batch]\n",
        "        sent_id, mask, labels = batch\n",
        "\n",
        "        with torch.no_grad():\n",
        "            preds = model(sent_id, mask)\n",
        "            loss = cross_entropy(preds, labels)\n",
        "            total_loss = total_loss + loss.item()\n",
        "            preds = preds.detach().cpu().numpy()\n",
        "            total_preds.append(preds)\n",
        "\n",
        "    avg_loss = total_loss / len(val_dataloader)\n",
        "    total_preds = np.concatenate(total_preds, axis = 0)\n",
        "\n",
        "    return avg_loss, total_preds"
      ],
      "metadata": {
        "id": "jvfagTSECW0W"
      },
      "execution_count": 77,
      "outputs": []
    },
    {
      "cell_type": "markdown",
      "source": [
        "Обучаем модель, сохраняем веса лучших метрик!"
      ],
      "metadata": {
        "id": "myMKu-OyCVz8"
      }
    },
    {
      "cell_type": "code",
      "source": [
        "best_valid_loss = float('inf')\n",
        "\n",
        "train_losses = []\n",
        "valid_losses = []\n",
        "\n",
        "for epoch in range(EPOCHS):\n",
        "    print('\\n Epoch{:} / {:}'.format(epoch+1, EPOCHS))\n",
        "\n",
        "    train_loss, _ = train()\n",
        "    valid_loss, _ = evaluate()\n",
        "\n",
        "    if valid_loss < best_valid_loss:\n",
        "        best_valid_loss = valid_loss\n",
        "        torch.save(model.state_dict(), 'saved_weights.pt')\n",
        "\n",
        "    train_losses.append(train_loss)\n",
        "    valid_losses.append(valid_loss)\n",
        "    print(f'\\nTraining loss: {train_loss:.3f}')\n",
        "    print(f'Validation loss: {valid_loss:.3f}')"
      ],
      "metadata": {
        "colab": {
          "base_uri": "https://localhost:8080/"
        },
        "id": "uDRO8Nk8CdiH",
        "outputId": "88d03bdb-ddcb-41b3-90c3-dbaf01e708da"
      },
      "execution_count": 78,
      "outputs": [
        {
          "output_type": "stream",
          "name": "stdout",
          "text": [
            "\n",
            " Epoch1 / 50\n"
          ]
        },
        {
          "output_type": "stream",
          "name": "stderr",
          "text": [
            "100%|██████████| 90/90 [00:04<00:00, 20.08it/s]\n",
            "100%|██████████| 30/30 [00:01<00:00, 21.05it/s]\n"
          ]
        },
        {
          "output_type": "stream",
          "name": "stdout",
          "text": [
            "\n",
            "Training loss: 0.594\n",
            "Validation loss: 0.521\n",
            "\n",
            " Epoch2 / 50\n"
          ]
        },
        {
          "output_type": "stream",
          "name": "stderr",
          "text": [
            "100%|██████████| 90/90 [00:04<00:00, 19.88it/s]\n",
            "100%|██████████| 30/30 [00:01<00:00, 20.67it/s]\n"
          ]
        },
        {
          "output_type": "stream",
          "name": "stdout",
          "text": [
            "\n",
            "Training loss: 0.515\n",
            "Validation loss: 0.530\n",
            "\n",
            " Epoch3 / 50\n"
          ]
        },
        {
          "output_type": "stream",
          "name": "stderr",
          "text": [
            "100%|██████████| 90/90 [00:04<00:00, 19.88it/s]\n",
            "100%|██████████| 30/30 [00:01<00:00, 20.28it/s]\n"
          ]
        },
        {
          "output_type": "stream",
          "name": "stdout",
          "text": [
            "\n",
            "Training loss: 0.492\n",
            "Validation loss: 0.532\n",
            "\n",
            " Epoch4 / 50\n"
          ]
        },
        {
          "output_type": "stream",
          "name": "stderr",
          "text": [
            "100%|██████████| 90/90 [00:04<00:00, 19.56it/s]\n",
            "100%|██████████| 30/30 [00:01<00:00, 19.93it/s]\n"
          ]
        },
        {
          "output_type": "stream",
          "name": "stdout",
          "text": [
            "\n",
            "Training loss: 0.449\n",
            "Validation loss: 0.532\n",
            "\n",
            " Epoch5 / 50\n"
          ]
        },
        {
          "output_type": "stream",
          "name": "stderr",
          "text": [
            "100%|██████████| 90/90 [00:04<00:00, 19.27it/s]\n",
            "100%|██████████| 30/30 [00:01<00:00, 19.64it/s]\n"
          ]
        },
        {
          "output_type": "stream",
          "name": "stdout",
          "text": [
            "\n",
            "Training loss: 0.479\n",
            "Validation loss: 0.551\n",
            "\n",
            " Epoch6 / 50\n"
          ]
        },
        {
          "output_type": "stream",
          "name": "stderr",
          "text": [
            "100%|██████████| 90/90 [00:04<00:00, 18.99it/s]\n",
            "100%|██████████| 30/30 [00:01<00:00, 19.62it/s]\n"
          ]
        },
        {
          "output_type": "stream",
          "name": "stdout",
          "text": [
            "\n",
            "Training loss: 0.450\n",
            "Validation loss: 0.712\n",
            "\n",
            " Epoch7 / 50\n"
          ]
        },
        {
          "output_type": "stream",
          "name": "stderr",
          "text": [
            "100%|██████████| 90/90 [00:04<00:00, 19.13it/s]\n",
            "100%|██████████| 30/30 [00:01<00:00, 19.79it/s]\n"
          ]
        },
        {
          "output_type": "stream",
          "name": "stdout",
          "text": [
            "\n",
            "Training loss: 0.442\n",
            "Validation loss: 0.532\n",
            "\n",
            " Epoch8 / 50\n"
          ]
        },
        {
          "output_type": "stream",
          "name": "stderr",
          "text": [
            "100%|██████████| 90/90 [00:04<00:00, 19.25it/s]\n",
            "100%|██████████| 30/30 [00:01<00:00, 20.15it/s]\n"
          ]
        },
        {
          "output_type": "stream",
          "name": "stdout",
          "text": [
            "\n",
            "Training loss: 0.429\n",
            "Validation loss: 0.563\n",
            "\n",
            " Epoch9 / 50\n"
          ]
        },
        {
          "output_type": "stream",
          "name": "stderr",
          "text": [
            "100%|██████████| 90/90 [00:04<00:00, 19.77it/s]\n",
            "100%|██████████| 30/30 [00:01<00:00, 20.30it/s]\n"
          ]
        },
        {
          "output_type": "stream",
          "name": "stdout",
          "text": [
            "\n",
            "Training loss: 0.435\n",
            "Validation loss: 0.517\n",
            "\n",
            " Epoch10 / 50\n"
          ]
        },
        {
          "output_type": "stream",
          "name": "stderr",
          "text": [
            "100%|██████████| 90/90 [00:04<00:00, 19.96it/s]\n",
            "100%|██████████| 30/30 [00:01<00:00, 21.20it/s]\n"
          ]
        },
        {
          "output_type": "stream",
          "name": "stdout",
          "text": [
            "\n",
            "Training loss: 0.393\n",
            "Validation loss: 0.680\n",
            "\n",
            " Epoch11 / 50\n"
          ]
        },
        {
          "output_type": "stream",
          "name": "stderr",
          "text": [
            "100%|██████████| 90/90 [00:04<00:00, 20.24it/s]\n",
            "100%|██████████| 30/30 [00:01<00:00, 20.70it/s]\n"
          ]
        },
        {
          "output_type": "stream",
          "name": "stdout",
          "text": [
            "\n",
            "Training loss: 0.407\n",
            "Validation loss: 0.628\n",
            "\n",
            " Epoch12 / 50\n"
          ]
        },
        {
          "output_type": "stream",
          "name": "stderr",
          "text": [
            "100%|██████████| 90/90 [00:04<00:00, 19.83it/s]\n",
            "100%|██████████| 30/30 [00:01<00:00, 20.46it/s]\n"
          ]
        },
        {
          "output_type": "stream",
          "name": "stdout",
          "text": [
            "\n",
            "Training loss: 0.405\n",
            "Validation loss: 0.605\n",
            "\n",
            " Epoch13 / 50\n"
          ]
        },
        {
          "output_type": "stream",
          "name": "stderr",
          "text": [
            "100%|██████████| 90/90 [00:04<00:00, 19.80it/s]\n",
            "100%|██████████| 30/30 [00:01<00:00, 20.00it/s]\n"
          ]
        },
        {
          "output_type": "stream",
          "name": "stdout",
          "text": [
            "\n",
            "Training loss: 0.401\n",
            "Validation loss: 0.500\n",
            "\n",
            " Epoch14 / 50\n"
          ]
        },
        {
          "output_type": "stream",
          "name": "stderr",
          "text": [
            "100%|██████████| 90/90 [00:04<00:00, 19.08it/s]\n",
            "100%|██████████| 30/30 [00:01<00:00, 19.63it/s]\n"
          ]
        },
        {
          "output_type": "stream",
          "name": "stdout",
          "text": [
            "\n",
            "Training loss: 0.424\n",
            "Validation loss: 0.643\n",
            "\n",
            " Epoch15 / 50\n"
          ]
        },
        {
          "output_type": "stream",
          "name": "stderr",
          "text": [
            "100%|██████████| 90/90 [00:04<00:00, 19.16it/s]\n",
            "100%|██████████| 30/30 [00:01<00:00, 19.55it/s]\n"
          ]
        },
        {
          "output_type": "stream",
          "name": "stdout",
          "text": [
            "\n",
            "Training loss: 0.403\n",
            "Validation loss: 0.706\n",
            "\n",
            " Epoch16 / 50\n"
          ]
        },
        {
          "output_type": "stream",
          "name": "stderr",
          "text": [
            "100%|██████████| 90/90 [00:04<00:00, 19.15it/s]\n",
            "100%|██████████| 30/30 [00:01<00:00, 19.81it/s]\n"
          ]
        },
        {
          "output_type": "stream",
          "name": "stdout",
          "text": [
            "\n",
            "Training loss: 0.406\n",
            "Validation loss: 0.557\n",
            "\n",
            " Epoch17 / 50\n"
          ]
        },
        {
          "output_type": "stream",
          "name": "stderr",
          "text": [
            "100%|██████████| 90/90 [00:04<00:00, 19.42it/s]\n",
            "100%|██████████| 30/30 [00:01<00:00, 20.02it/s]\n"
          ]
        },
        {
          "output_type": "stream",
          "name": "stdout",
          "text": [
            "\n",
            "Training loss: 0.390\n",
            "Validation loss: 0.524\n",
            "\n",
            " Epoch18 / 50\n"
          ]
        },
        {
          "output_type": "stream",
          "name": "stderr",
          "text": [
            "100%|██████████| 90/90 [00:04<00:00, 19.75it/s]\n",
            "100%|██████████| 30/30 [00:01<00:00, 20.33it/s]\n"
          ]
        },
        {
          "output_type": "stream",
          "name": "stdout",
          "text": [
            "\n",
            "Training loss: 0.384\n",
            "Validation loss: 0.527\n",
            "\n",
            " Epoch19 / 50\n"
          ]
        },
        {
          "output_type": "stream",
          "name": "stderr",
          "text": [
            "100%|██████████| 90/90 [00:04<00:00, 19.80it/s]\n",
            "100%|██████████| 30/30 [00:01<00:00, 20.35it/s]\n"
          ]
        },
        {
          "output_type": "stream",
          "name": "stdout",
          "text": [
            "\n",
            "Training loss: 0.361\n",
            "Validation loss: 0.502\n",
            "\n",
            " Epoch20 / 50\n"
          ]
        },
        {
          "output_type": "stream",
          "name": "stderr",
          "text": [
            "100%|██████████| 90/90 [00:04<00:00, 19.80it/s]\n",
            "100%|██████████| 30/30 [00:01<00:00, 20.65it/s]\n"
          ]
        },
        {
          "output_type": "stream",
          "name": "stdout",
          "text": [
            "\n",
            "Training loss: 0.361\n",
            "Validation loss: 0.513\n",
            "\n",
            " Epoch21 / 50\n"
          ]
        },
        {
          "output_type": "stream",
          "name": "stderr",
          "text": [
            "100%|██████████| 90/90 [00:04<00:00, 19.94it/s]\n",
            "100%|██████████| 30/30 [00:01<00:00, 20.67it/s]\n"
          ]
        },
        {
          "output_type": "stream",
          "name": "stdout",
          "text": [
            "\n",
            "Training loss: 0.378\n",
            "Validation loss: 0.537\n",
            "\n",
            " Epoch22 / 50\n"
          ]
        },
        {
          "output_type": "stream",
          "name": "stderr",
          "text": [
            "100%|██████████| 90/90 [00:04<00:00, 19.97it/s]\n",
            "100%|██████████| 30/30 [00:01<00:00, 20.76it/s]\n"
          ]
        },
        {
          "output_type": "stream",
          "name": "stdout",
          "text": [
            "\n",
            "Training loss: 0.332\n",
            "Validation loss: 0.583\n",
            "\n",
            " Epoch23 / 50\n"
          ]
        },
        {
          "output_type": "stream",
          "name": "stderr",
          "text": [
            "100%|██████████| 90/90 [00:04<00:00, 20.04it/s]\n",
            "100%|██████████| 30/30 [00:01<00:00, 20.66it/s]\n"
          ]
        },
        {
          "output_type": "stream",
          "name": "stdout",
          "text": [
            "\n",
            "Training loss: 0.354\n",
            "Validation loss: 0.497\n",
            "\n",
            " Epoch24 / 50\n"
          ]
        },
        {
          "output_type": "stream",
          "name": "stderr",
          "text": [
            "100%|██████████| 90/90 [00:04<00:00, 19.86it/s]\n",
            "100%|██████████| 30/30 [00:01<00:00, 20.81it/s]\n"
          ]
        },
        {
          "output_type": "stream",
          "name": "stdout",
          "text": [
            "\n",
            "Training loss: 0.379\n",
            "Validation loss: 0.504\n",
            "\n",
            " Epoch25 / 50\n"
          ]
        },
        {
          "output_type": "stream",
          "name": "stderr",
          "text": [
            "100%|██████████| 90/90 [00:04<00:00, 19.87it/s]\n",
            "100%|██████████| 30/30 [00:01<00:00, 20.66it/s]\n"
          ]
        },
        {
          "output_type": "stream",
          "name": "stdout",
          "text": [
            "\n",
            "Training loss: 0.381\n",
            "Validation loss: 0.482\n",
            "\n",
            " Epoch26 / 50\n"
          ]
        },
        {
          "output_type": "stream",
          "name": "stderr",
          "text": [
            "100%|██████████| 90/90 [00:04<00:00, 19.63it/s]\n",
            "100%|██████████| 30/30 [00:01<00:00, 20.28it/s]\n"
          ]
        },
        {
          "output_type": "stream",
          "name": "stdout",
          "text": [
            "\n",
            "Training loss: 0.364\n",
            "Validation loss: 0.540\n",
            "\n",
            " Epoch27 / 50\n"
          ]
        },
        {
          "output_type": "stream",
          "name": "stderr",
          "text": [
            "100%|██████████| 90/90 [00:04<00:00, 19.81it/s]\n",
            "100%|██████████| 30/30 [00:01<00:00, 20.03it/s]\n"
          ]
        },
        {
          "output_type": "stream",
          "name": "stdout",
          "text": [
            "\n",
            "Training loss: 0.348\n",
            "Validation loss: 0.473\n",
            "\n",
            " Epoch28 / 50\n"
          ]
        },
        {
          "output_type": "stream",
          "name": "stderr",
          "text": [
            "100%|██████████| 90/90 [00:04<00:00, 19.44it/s]\n",
            "100%|██████████| 30/30 [00:01<00:00, 20.03it/s]\n"
          ]
        },
        {
          "output_type": "stream",
          "name": "stdout",
          "text": [
            "\n",
            "Training loss: 0.361\n",
            "Validation loss: 0.658\n",
            "\n",
            " Epoch29 / 50\n"
          ]
        },
        {
          "output_type": "stream",
          "name": "stderr",
          "text": [
            "100%|██████████| 90/90 [00:04<00:00, 19.60it/s]\n",
            "100%|██████████| 30/30 [00:01<00:00, 20.19it/s]\n"
          ]
        },
        {
          "output_type": "stream",
          "name": "stdout",
          "text": [
            "\n",
            "Training loss: 0.370\n",
            "Validation loss: 0.458\n",
            "\n",
            " Epoch30 / 50\n"
          ]
        },
        {
          "output_type": "stream",
          "name": "stderr",
          "text": [
            "100%|██████████| 90/90 [00:04<00:00, 19.66it/s]\n",
            "100%|██████████| 30/30 [00:01<00:00, 20.20it/s]\n"
          ]
        },
        {
          "output_type": "stream",
          "name": "stdout",
          "text": [
            "\n",
            "Training loss: 0.334\n",
            "Validation loss: 0.475\n",
            "\n",
            " Epoch31 / 50\n"
          ]
        },
        {
          "output_type": "stream",
          "name": "stderr",
          "text": [
            "100%|██████████| 90/90 [00:04<00:00, 19.59it/s]\n",
            "100%|██████████| 30/30 [00:01<00:00, 20.15it/s]\n"
          ]
        },
        {
          "output_type": "stream",
          "name": "stdout",
          "text": [
            "\n",
            "Training loss: 0.335\n",
            "Validation loss: 0.601\n",
            "\n",
            " Epoch32 / 50\n"
          ]
        },
        {
          "output_type": "stream",
          "name": "stderr",
          "text": [
            "100%|██████████| 90/90 [00:04<00:00, 19.84it/s]\n",
            "100%|██████████| 30/30 [00:01<00:00, 20.18it/s]\n"
          ]
        },
        {
          "output_type": "stream",
          "name": "stdout",
          "text": [
            "\n",
            "Training loss: 0.319\n",
            "Validation loss: 0.528\n",
            "\n",
            " Epoch33 / 50\n"
          ]
        },
        {
          "output_type": "stream",
          "name": "stderr",
          "text": [
            "100%|██████████| 90/90 [00:04<00:00, 19.60it/s]\n",
            "100%|██████████| 30/30 [00:01<00:00, 20.36it/s]\n"
          ]
        },
        {
          "output_type": "stream",
          "name": "stdout",
          "text": [
            "\n",
            "Training loss: 0.328\n",
            "Validation loss: 0.526\n",
            "\n",
            " Epoch34 / 50\n"
          ]
        },
        {
          "output_type": "stream",
          "name": "stderr",
          "text": [
            "100%|██████████| 90/90 [00:04<00:00, 19.84it/s]\n",
            "100%|██████████| 30/30 [00:01<00:00, 20.35it/s]\n"
          ]
        },
        {
          "output_type": "stream",
          "name": "stdout",
          "text": [
            "\n",
            "Training loss: 0.314\n",
            "Validation loss: 0.610\n",
            "\n",
            " Epoch35 / 50\n"
          ]
        },
        {
          "output_type": "stream",
          "name": "stderr",
          "text": [
            "100%|██████████| 90/90 [00:04<00:00, 19.79it/s]\n",
            "100%|██████████| 30/30 [00:01<00:00, 20.38it/s]\n"
          ]
        },
        {
          "output_type": "stream",
          "name": "stdout",
          "text": [
            "\n",
            "Training loss: 0.333\n",
            "Validation loss: 0.671\n",
            "\n",
            " Epoch36 / 50\n"
          ]
        },
        {
          "output_type": "stream",
          "name": "stderr",
          "text": [
            "100%|██████████| 90/90 [00:04<00:00, 19.87it/s]\n",
            "100%|██████████| 30/30 [00:01<00:00, 20.51it/s]\n"
          ]
        },
        {
          "output_type": "stream",
          "name": "stdout",
          "text": [
            "\n",
            "Training loss: 0.356\n",
            "Validation loss: 0.526\n",
            "\n",
            " Epoch37 / 50\n"
          ]
        },
        {
          "output_type": "stream",
          "name": "stderr",
          "text": [
            "100%|██████████| 90/90 [00:04<00:00, 19.73it/s]\n",
            "100%|██████████| 30/30 [00:01<00:00, 20.55it/s]\n"
          ]
        },
        {
          "output_type": "stream",
          "name": "stdout",
          "text": [
            "\n",
            "Training loss: 0.318\n",
            "Validation loss: 0.507\n",
            "\n",
            " Epoch38 / 50\n"
          ]
        },
        {
          "output_type": "stream",
          "name": "stderr",
          "text": [
            "100%|██████████| 90/90 [00:04<00:00, 19.80it/s]\n",
            "100%|██████████| 30/30 [00:01<00:00, 20.65it/s]\n"
          ]
        },
        {
          "output_type": "stream",
          "name": "stdout",
          "text": [
            "\n",
            "Training loss: 0.358\n",
            "Validation loss: 0.512\n",
            "\n",
            " Epoch39 / 50\n"
          ]
        },
        {
          "output_type": "stream",
          "name": "stderr",
          "text": [
            "100%|██████████| 90/90 [00:04<00:00, 19.80it/s]\n",
            "100%|██████████| 30/30 [00:01<00:00, 20.52it/s]\n"
          ]
        },
        {
          "output_type": "stream",
          "name": "stdout",
          "text": [
            "\n",
            "Training loss: 0.312\n",
            "Validation loss: 0.531\n",
            "\n",
            " Epoch40 / 50\n"
          ]
        },
        {
          "output_type": "stream",
          "name": "stderr",
          "text": [
            "100%|██████████| 90/90 [00:04<00:00, 19.87it/s]\n",
            "100%|██████████| 30/30 [00:01<00:00, 20.42it/s]\n"
          ]
        },
        {
          "output_type": "stream",
          "name": "stdout",
          "text": [
            "\n",
            "Training loss: 0.292\n",
            "Validation loss: 0.534\n",
            "\n",
            " Epoch41 / 50\n"
          ]
        },
        {
          "output_type": "stream",
          "name": "stderr",
          "text": [
            "100%|██████████| 90/90 [00:04<00:00, 19.71it/s]\n",
            "100%|██████████| 30/30 [00:01<00:00, 20.45it/s]\n"
          ]
        },
        {
          "output_type": "stream",
          "name": "stdout",
          "text": [
            "\n",
            "Training loss: 0.345\n",
            "Validation loss: 0.502\n",
            "\n",
            " Epoch42 / 50\n"
          ]
        },
        {
          "output_type": "stream",
          "name": "stderr",
          "text": [
            "100%|██████████| 90/90 [00:04<00:00, 19.84it/s]\n",
            "100%|██████████| 30/30 [00:01<00:00, 20.44it/s]\n"
          ]
        },
        {
          "output_type": "stream",
          "name": "stdout",
          "text": [
            "\n",
            "Training loss: 0.296\n",
            "Validation loss: 0.510\n",
            "\n",
            " Epoch43 / 50\n"
          ]
        },
        {
          "output_type": "stream",
          "name": "stderr",
          "text": [
            "100%|██████████| 90/90 [00:04<00:00, 19.73it/s]\n",
            "100%|██████████| 30/30 [00:01<00:00, 20.32it/s]\n"
          ]
        },
        {
          "output_type": "stream",
          "name": "stdout",
          "text": [
            "\n",
            "Training loss: 0.341\n",
            "Validation loss: 0.628\n",
            "\n",
            " Epoch44 / 50\n"
          ]
        },
        {
          "output_type": "stream",
          "name": "stderr",
          "text": [
            "100%|██████████| 90/90 [00:04<00:00, 19.88it/s]\n",
            "100%|██████████| 30/30 [00:01<00:00, 20.28it/s]\n"
          ]
        },
        {
          "output_type": "stream",
          "name": "stdout",
          "text": [
            "\n",
            "Training loss: 0.317\n",
            "Validation loss: 0.504\n",
            "\n",
            " Epoch45 / 50\n"
          ]
        },
        {
          "output_type": "stream",
          "name": "stderr",
          "text": [
            "100%|██████████| 90/90 [00:04<00:00, 19.68it/s]\n",
            "100%|██████████| 30/30 [00:01<00:00, 20.27it/s]\n"
          ]
        },
        {
          "output_type": "stream",
          "name": "stdout",
          "text": [
            "\n",
            "Training loss: 0.287\n",
            "Validation loss: 0.592\n",
            "\n",
            " Epoch46 / 50\n"
          ]
        },
        {
          "output_type": "stream",
          "name": "stderr",
          "text": [
            "100%|██████████| 90/90 [00:04<00:00, 19.85it/s]\n",
            "100%|██████████| 30/30 [00:01<00:00, 20.34it/s]\n"
          ]
        },
        {
          "output_type": "stream",
          "name": "stdout",
          "text": [
            "\n",
            "Training loss: 0.331\n",
            "Validation loss: 0.484\n",
            "\n",
            " Epoch47 / 50\n"
          ]
        },
        {
          "output_type": "stream",
          "name": "stderr",
          "text": [
            "100%|██████████| 90/90 [00:04<00:00, 19.72it/s]\n",
            "100%|██████████| 30/30 [00:01<00:00, 20.40it/s]\n"
          ]
        },
        {
          "output_type": "stream",
          "name": "stdout",
          "text": [
            "\n",
            "Training loss: 0.296\n",
            "Validation loss: 0.575\n",
            "\n",
            " Epoch48 / 50\n"
          ]
        },
        {
          "output_type": "stream",
          "name": "stderr",
          "text": [
            "100%|██████████| 90/90 [00:04<00:00, 19.89it/s]\n",
            "100%|██████████| 30/30 [00:01<00:00, 20.39it/s]\n"
          ]
        },
        {
          "output_type": "stream",
          "name": "stdout",
          "text": [
            "\n",
            "Training loss: 0.287\n",
            "Validation loss: 0.643\n",
            "\n",
            " Epoch49 / 50\n"
          ]
        },
        {
          "output_type": "stream",
          "name": "stderr",
          "text": [
            "100%|██████████| 90/90 [00:04<00:00, 19.77it/s]\n",
            "100%|██████████| 30/30 [00:01<00:00, 20.45it/s]\n"
          ]
        },
        {
          "output_type": "stream",
          "name": "stdout",
          "text": [
            "\n",
            "Training loss: 0.331\n",
            "Validation loss: 0.803\n",
            "\n",
            " Epoch50 / 50\n"
          ]
        },
        {
          "output_type": "stream",
          "name": "stderr",
          "text": [
            "100%|██████████| 90/90 [00:04<00:00, 19.87it/s]\n",
            "100%|██████████| 30/30 [00:01<00:00, 20.31it/s]"
          ]
        },
        {
          "output_type": "stream",
          "name": "stdout",
          "text": [
            "\n",
            "Training loss: 0.309\n",
            "Validation loss: 0.624\n"
          ]
        },
        {
          "output_type": "stream",
          "name": "stderr",
          "text": [
            "\n"
          ]
        }
      ]
    },
    {
      "cell_type": "markdown",
      "source": [
        "Загружаем лучшие веса модели"
      ],
      "metadata": {
        "id": "x2Gis_2xCdqg"
      }
    },
    {
      "cell_type": "code",
      "source": [
        "path = 'saved_weights.pt'\n",
        "model.load_state_dict(torch.load(path))"
      ],
      "metadata": {
        "colab": {
          "base_uri": "https://localhost:8080/"
        },
        "id": "9o1mbU3uDNW4",
        "outputId": "83f2a528-717f-4d80-eb0e-23a9725d59d4"
      },
      "execution_count": 26,
      "outputs": [
        {
          "output_type": "execute_result",
          "data": {
            "text/plain": [
              "<All keys matched successfully>"
            ]
          },
          "metadata": {},
          "execution_count": 26
        }
      ]
    },
    {
      "cell_type": "markdown",
      "source": [
        "Далее идем проверять на тестовой выборке"
      ],
      "metadata": {
        "id": "_PpcWKfkDPEk"
      }
    },
    {
      "cell_type": "code",
      "source": [
        "import gc\n",
        "gc.collect()\n",
        "torch.cuda.empty_cache()\n",
        "\n",
        "list_seq = np.array_split(test_seq, 50)\n",
        "list_mask = np.array_split(test_mask, 50)\n",
        "\n",
        "\n",
        "predictions = []\n",
        "for num, elem in enumerate(list_seq):\n",
        "    with torch.no_grad():\n",
        "        preds = model(elem.to(device), list_mask[num].to(device))\n",
        "        predictions.append(preds.detach().cpu().numpy())"
      ],
      "metadata": {
        "id": "bIAruBnbEmY3"
      },
      "execution_count": 28,
      "outputs": []
    },
    {
      "cell_type": "markdown",
      "source": [
        "Преобразуем полученные предсказания в один список, нормализуем данные и запишем в новый столбик датафрейма.\n",
        "\n"
      ],
      "metadata": {
        "id": "DHn6A3w2FBBu"
      }
    },
    {
      "cell_type": "code",
      "source": [
        "flat_preds = [item[1] for sublist in predictions for item in sublist]\n",
        "flat_preds = (flat_preds - min(flat_preds)) / (max(flat_preds) - min(flat_preds))\n",
        "reviews_test['confidence'] = flat_preds"
      ],
      "metadata": {
        "id": "iI7EI5QPFCiM"
      },
      "execution_count": 29,
      "outputs": []
    },
    {
      "cell_type": "markdown",
      "source": [
        "На выходе мы получили значение с плавающей точкой от 0 до 1. Теперь меняя порог, мы сможем предсказать финальный класс:"
      ],
      "metadata": {
        "id": "9oe49ZOQFIQ0"
      }
    },
    {
      "cell_type": "code",
      "source": [
        "reviews_test['pred'] = reviews_test['confidence'].apply(lambda x: 1 if x>0.88 else 0)\n",
        "\n",
        "print(classification_report(reviews_test['rating'], reviews_test['pred']))"
      ],
      "metadata": {
        "colab": {
          "base_uri": "https://localhost:8080/"
        },
        "id": "xX492XmoFfBX",
        "outputId": "7420cd99-57c3-4fcd-d411-b551f463fc5b"
      },
      "execution_count": 67,
      "outputs": [
        {
          "output_type": "stream",
          "name": "stdout",
          "text": [
            "              precision    recall  f1-score   support\n",
            "\n",
            "           0       0.80      0.92      0.86       116\n",
            "           1       0.91      0.78      0.84       123\n",
            "\n",
            "    accuracy                           0.85       239\n",
            "   macro avg       0.86      0.85      0.85       239\n",
            "weighted avg       0.86      0.85      0.85       239\n",
            "\n"
          ]
        }
      ]
    },
    {
      "cell_type": "markdown",
      "source": [
        "Теперь проверим на рандомном отзывы о Тинькофф"
      ],
      "metadata": {
        "id": "iPPWu2l0F76q"
      }
    },
    {
      "cell_type": "code",
      "source": [
        "reviews = ['У банка очень хорошая техническая поддержка через нее вернул порядко 4000₽ который украли мошейники. Также хочу похвалить их за то что дают открывать счета, инвестировать. Представители всегда опрятные вежливые ответят на любые ваши вопросы по...',\n",
        "           'Самый лучший банк в стране по моему мнению! Интересное приложение! Много акций всегда! С большим удовольствием пользуюсь картой данного банка во всех магазинах, интернет-магазинах, оплачивают счета ЖКХ.',\n",
        "           'заблокировали бонусные баллы и вынудили закрыть карту без компенсации бонусов. была акция кешбек 10% - я сделал заказ, оплатил и тут пришло сообщение что бонусная программа заблокирована без объяснения причин. в течении года пытался добиться...']\n",
        "\n",
        "token_r = tokenizer.batch_encode_plus(\n",
        "    np.array(reviews),\n",
        "    max_length = 100,\n",
        "    padding = 'max_length',\n",
        "    truncation = True\n",
        ")\n",
        "\n",
        "\n",
        "r_seq = torch.tensor(token_r['input_ids'])\n",
        "r_mask = torch.tensor(token_r['attention_mask'])\n",
        "\n",
        "gc.collect()\n",
        "torch.cuda.empty_cache()\n",
        "\n",
        "with torch.no_grad():\n",
        "        pred = model(r_seq.to(device), r_mask.to(device))\n",
        "        pred = pred.detach().cpu().numpy()\n",
        "\n",
        "flat_pred = np.array([item[1] for item in pred])\n",
        "flat_pred = (flat_pred - min(flat_pred)) / (max(flat_pred) - min(flat_pred))\n",
        "\n",
        "flat_pred"
      ],
      "metadata": {
        "colab": {
          "base_uri": "https://localhost:8080/"
        },
        "id": "ZlZrrliZGAkA",
        "outputId": "e4801a96-4486-4319-89a5-5c2e5ce224b3"
      },
      "execution_count": 69,
      "outputs": [
        {
          "output_type": "execute_result",
          "data": {
            "text/plain": [
              "array([1.        , 0.91511494, 0.        ], dtype=float32)"
            ]
          },
          "metadata": {},
          "execution_count": 69
        }
      ]
    }
  ]
}